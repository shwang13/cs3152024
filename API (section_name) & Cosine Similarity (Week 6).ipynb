{
 "cells": [
  {
   "cell_type": "markdown",
   "id": "4aa5f1c0-0e4a-45b7-98b3-98eb0e599618",
   "metadata": {},
   "source": [
    "# API"
   ]
  },
  {
   "cell_type": "code",
   "execution_count": 5,
   "id": "e7d55510-7837-4660-b4a7-86010ff491df",
   "metadata": {},
   "outputs": [],
   "source": [
    "import requests"
   ]
  },
  {
   "cell_type": "code",
   "execution_count": 6,
   "id": "9caec693-7af3-47e4-ad14-986caf49c888",
   "metadata": {},
   "outputs": [],
   "source": [
    "myAPIKey = \"ftdgFfXtnH2CJdSLUt3A5NWo2dJCQZXF\""
   ]
  },
  {
   "cell_type": "code",
   "execution_count": 7,
   "id": "8dc140f1-fa4c-4354-a673-ff5a1f2a876f",
   "metadata": {},
   "outputs": [
    {
     "name": "stdout",
     "output_type": "stream",
     "text": [
      "https://api.nytimes.com/svc/archive/v1/2024/2.json?api-key=ftdgFfXtnH2CJdSLUt3A5NWo2dJCQZXF\n"
     ]
    }
   ],
   "source": [
    "year = 2024\n",
    "month = 2\n",
    "\n",
    "URL = f\"https://api.nytimes.com/svc/archive/v1/{year}/{month}.json?api-key={myAPIKey}\"\n",
    "print(URL)"
   ]
  },
  {
   "cell_type": "code",
   "execution_count": 8,
   "id": "b762a5f6-ed5a-41ce-826d-8a7e79cfb938",
   "metadata": {},
   "outputs": [
    {
     "data": {
      "text/plain": [
       "200"
      ]
     },
     "execution_count": 8,
     "metadata": {},
     "output_type": "execute_result"
    }
   ],
   "source": [
    "data = requests.get(URL) \n",
    "data.status_code"
   ]
  },
  {
   "cell_type": "code",
   "execution_count": 9,
   "id": "0ddb50ad-bedc-4b2d-8e2d-7089d8583ec9",
   "metadata": {},
   "outputs": [
    {
     "data": {
      "text/plain": [
       "2"
      ]
     },
     "execution_count": 9,
     "metadata": {},
     "output_type": "execute_result"
    }
   ],
   "source": [
    "articles = data.json()\n",
    "len(articles) "
   ]
  },
  {
   "cell_type": "code",
   "execution_count": 10,
   "id": "92881557-5fc8-4b17-b032-92e6c2fc0add",
   "metadata": {},
   "outputs": [
    {
     "data": {
      "text/plain": [
       "dict_keys(['copyright', 'response'])"
      ]
     },
     "execution_count": 10,
     "metadata": {},
     "output_type": "execute_result"
    }
   ],
   "source": [
    "articles.keys()"
   ]
  },
  {
   "cell_type": "code",
   "execution_count": 11,
   "id": "1113ffa4-a157-4315-b5f0-50341af326cc",
   "metadata": {},
   "outputs": [
    {
     "data": {
      "text/plain": [
       "{'abstract': 'Periods of backlash take shape after surges of Black progress. We have entered another such period.',\n",
       " 'web_url': 'https://www.nytimes.com/2024/01/31/opinion/racist-backlash-history.html',\n",
       " 'snippet': 'Periods of backlash take shape after surges of Black progress. We have entered another such period.',\n",
       " 'lead_paragraph': 'I am fascinated, and alarmed, by the swiftness with which periods of backlash take shape after surges of Black progress, and I believe that we have entered another such period.',\n",
       " 'print_section': 'A',\n",
       " 'print_page': '21',\n",
       " 'source': 'The New York Times',\n",
       " 'multimedia': [{'rank': 0,\n",
       "   'subtype': 'xlarge',\n",
       "   'caption': None,\n",
       "   'credit': None,\n",
       "   'type': 'image',\n",
       "   'url': 'images/2024/02/01/multimedia/31blow1-hvfq/31blow1-hvfq-articleLarge.jpg',\n",
       "   'height': 800,\n",
       "   'width': 600,\n",
       "   'subType': 'xlarge',\n",
       "   'crop_name': 'articleLarge',\n",
       "   'legacy': {'xlarge': 'images/2024/02/01/multimedia/31blow1-hvfq/31blow1-hvfq-articleLarge.jpg',\n",
       "    'xlargewidth': 600,\n",
       "    'xlargeheight': 800}},\n",
       "  {'rank': 0,\n",
       "   'subtype': 'jumbo',\n",
       "   'caption': None,\n",
       "   'credit': None,\n",
       "   'type': 'image',\n",
       "   'url': 'images/2024/02/01/multimedia/31blow1-hvfq/31blow1-hvfq-jumbo.jpg',\n",
       "   'height': 1024,\n",
       "   'width': 768,\n",
       "   'subType': 'jumbo',\n",
       "   'crop_name': 'jumbo',\n",
       "   'legacy': {}},\n",
       "  {'rank': 0,\n",
       "   'subtype': 'superJumbo',\n",
       "   'caption': None,\n",
       "   'credit': None,\n",
       "   'type': 'image',\n",
       "   'url': 'images/2024/02/01/multimedia/31blow1-hvfq/31blow1-hvfq-superJumbo.jpg',\n",
       "   'height': 2048,\n",
       "   'width': 1536,\n",
       "   'subType': 'superJumbo',\n",
       "   'crop_name': 'superJumbo',\n",
       "   'legacy': {}},\n",
       "  {'rank': 0,\n",
       "   'subtype': 'thumbnail',\n",
       "   'caption': None,\n",
       "   'credit': None,\n",
       "   'type': 'image',\n",
       "   'url': 'images/2024/02/01/multimedia/31blow1-hvfq/31blow1-hvfq-thumbStandard.jpg',\n",
       "   'height': 75,\n",
       "   'width': 75,\n",
       "   'subType': 'thumbnail',\n",
       "   'crop_name': 'thumbStandard',\n",
       "   'legacy': {'thumbnail': 'images/2024/02/01/multimedia/31blow1-hvfq/31blow1-hvfq-thumbStandard.jpg',\n",
       "    'thumbnailwidth': 75,\n",
       "    'thumbnailheight': 75}},\n",
       "  {'rank': 0,\n",
       "   'subtype': 'thumbLarge',\n",
       "   'caption': None,\n",
       "   'credit': None,\n",
       "   'type': 'image',\n",
       "   'url': 'images/2024/02/01/multimedia/31blow1-hvfq/31blow1-hvfq-thumbLarge.jpg',\n",
       "   'height': 150,\n",
       "   'width': 150,\n",
       "   'subType': 'thumbLarge',\n",
       "   'crop_name': 'thumbLarge',\n",
       "   'legacy': {}}],\n",
       " 'headline': {'main': 'The Dawn of a New Era of Oppression',\n",
       "  'kicker': 'Charles M. Blow',\n",
       "  'content_kicker': None,\n",
       "  'print_headline': 'The Dawn of a New Era of Oppression',\n",
       "  'name': None,\n",
       "  'seo': None,\n",
       "  'sub': None},\n",
       " 'keywords': [{'name': 'subject',\n",
       "   'value': 'Hate Crimes',\n",
       "   'rank': 1,\n",
       "   'major': 'N'},\n",
       "  {'name': 'subject', 'value': 'Black People', 'rank': 2, 'major': 'N'},\n",
       "  {'name': 'subject', 'value': 'Blacks', 'rank': 3, 'major': 'N'},\n",
       "  {'name': 'subject', 'value': 'Discrimination', 'rank': 4, 'major': 'N'},\n",
       "  {'name': 'subject',\n",
       "   'value': 'Civil Rights Movement (1954-68)',\n",
       "   'rank': 5,\n",
       "   'major': 'N'},\n",
       "  {'name': 'subject', 'value': 'Reconstruction Era', 'rank': 6, 'major': 'N'},\n",
       "  {'name': 'subject',\n",
       "   'value': 'Segregation and Desegregation',\n",
       "   'rank': 7,\n",
       "   'major': 'N'},\n",
       "  {'name': 'persons',\n",
       "   'value': 'Nixon, Richard Milhous',\n",
       "   'rank': 8,\n",
       "   'major': 'N'}],\n",
       " 'pub_date': '2024-02-01T00:00:08+0000',\n",
       " 'document_type': 'article',\n",
       " 'news_desk': 'OpEd',\n",
       " 'section_name': 'Opinion',\n",
       " 'byline': {'original': 'By Charles M. Blow',\n",
       "  'person': [{'firstname': 'Charles',\n",
       "    'middlename': None,\n",
       "    'lastname': '',\n",
       "    'qualifier': None,\n",
       "    'title': None,\n",
       "    'role': 'reported',\n",
       "    'organization': '',\n",
       "    'rank': 1}],\n",
       "  'organization': None},\n",
       " 'type_of_material': 'Op-Ed',\n",
       " '_id': 'nyt://article/f2a4bafd-6333-5aee-8bd7-08fa9572ec5e',\n",
       " 'word_count': 928,\n",
       " 'uri': 'nyt://article/f2a4bafd-6333-5aee-8bd7-08fa9572ec5e'}"
      ]
     },
     "execution_count": 11,
     "metadata": {},
     "output_type": "execute_result"
    }
   ],
   "source": [
    "articles['response']['docs'][0]"
   ]
  },
  {
   "cell_type": "code",
   "execution_count": 12,
   "id": "b4984ba8-eeaa-4396-9044-907be8d43b55",
   "metadata": {},
   "outputs": [],
   "source": [
    "sections = {}\n",
    "for i in range(len(articles['response']['docs'])):\n",
    "    if articles['response']['docs'][i]['section_name'] in sections: \n",
    "        sections[articles['response']['docs'][i]['section_name']] += 1\n",
    "    else: \n",
    "        sections[articles['response']['docs'][i]['section_name']] = 1"
   ]
  },
  {
   "cell_type": "code",
   "execution_count": 13,
   "id": "5641cb31-2c80-46f9-8496-4513ec4fd04f",
   "metadata": {},
   "outputs": [
    {
     "data": {
      "text/plain": [
       "{'Opinion': 272,\n",
       " 'New York': 200,\n",
       " 'World': 513,\n",
       " 'U.S.': 734,\n",
       " 'Crosswords & Games': 125,\n",
       " 'Food': 80,\n",
       " 'Briefing': 77,\n",
       " 'Arts': 326,\n",
       " 'The Learning Network': 78,\n",
       " 'Times Insider': 22,\n",
       " 'Travel': 31,\n",
       " 'Books': 139,\n",
       " 'Real Estate': 62,\n",
       " 'Theater': 58,\n",
       " 'Technology': 49,\n",
       " 'Business Day': 244,\n",
       " 'Well': 47,\n",
       " 'Movies': 123,\n",
       " 'Magazine': 41,\n",
       " 'The Upshot': 19,\n",
       " 'Podcasts': 79,\n",
       " 'Style': 174,\n",
       " 'Health': 58,\n",
       " 'Science': 50,\n",
       " 'Corrections': 56,\n",
       " 'Climate': 50,\n",
       " 'T Magazine': 51,\n",
       " 'Your Money': 7,\n",
       " 'T Brand': 4,\n",
       " 'Obituaries': 3,\n",
       " 'Smarter Living': 3,\n",
       " 'Headway': 4,\n",
       " 'Sports': 7,\n",
       " 'Today’s Paper': 2,\n",
       " 'Fashion & Style': 2,\n",
       " 'International Home': 1}"
      ]
     },
     "execution_count": 13,
     "metadata": {},
     "output_type": "execute_result"
    }
   ],
   "source": [
    "sections"
   ]
  },
  {
   "cell_type": "markdown",
   "id": "f261814f-47a4-4c1b-9629-64ff1476788c",
   "metadata": {},
   "source": [
    "# 3/5 cosine similarity"
   ]
  },
  {
   "cell_type": "code",
   "execution_count": 14,
   "id": "bac0256c-aced-4910-9c86-a368c68103f6",
   "metadata": {},
   "outputs": [],
   "source": [
    "import numpy as np\n",
    "from numpy.linalg import norm\n",
    "\n",
    "def cosineSimilarity(vec1, vec2): \n",
    "    V1 = np.array(vec1)\n",
    "    V2 = np.array(vec2)\n",
    "    cosine = np.dot(V1, V2)/(norm(V1)*norm(V2))\n",
    "    return cosine"
   ]
  },
  {
   "cell_type": "code",
   "execution_count": 15,
   "id": "0a30be5d-b6bf-4f96-9a74-1aa010861bfd",
   "metadata": {},
   "outputs": [],
   "source": [
    "docs = [\"she wore a dress and red earrings\",                           # d1\n",
    "\"the dress has a red wine stain\",                                      # d2\n",
    "\"tomorrow I will wear my new red dress\",                               # d3\n",
    "\"the red dress in the photo resembles the red dress she is wearing\",   # d4\n",
    "\"short dress\",                                                         # d5\n",
    "\"red lipstick\"]                                                        # d6"
   ]
  },
  {
   "cell_type": "code",
   "execution_count": 16,
   "id": "2c4cb332-1b7a-4aef-a6bd-252f154b339e",
   "metadata": {},
   "outputs": [],
   "source": [
    "def createVoc(doc):\n",
    "    wordList = []\n",
    "    for row in doc:\n",
    "        if len(row) != 0: #make sure the string isn't empty\n",
    "            wordList += row.lower().split(' ') #split & add individual hashtags into the list\n",
    "    wordList = np.unique(wordList).tolist() #eliminate duplicate hashtags\n",
    "    wordList.sort()\n",
    "    return wordList"
   ]
  },
  {
   "cell_type": "code",
   "execution_count": 17,
   "id": "d5804c87-c720-494b-827d-f07856b7afff",
   "metadata": {},
   "outputs": [],
   "source": [
    "def createWordlist(doc):\n",
    "    wordList = []\n",
    "    wordList += doc.lower().split(' ')\n",
    "    wordList = np.unique(wordList).tolist() #eliminate duplicate hashtags\n",
    "    wordList.sort()\n",
    "    return wordList"
   ]
  },
  {
   "cell_type": "code",
   "execution_count": 18,
   "id": "64e703d8-f9d6-4614-9560-7774411c34de",
   "metadata": {},
   "outputs": [
    {
     "data": {
      "text/plain": [
       "['a',\n",
       " 'and',\n",
       " 'dress',\n",
       " 'earrings',\n",
       " 'has',\n",
       " 'i',\n",
       " 'in',\n",
       " 'is',\n",
       " 'lipstick',\n",
       " 'my',\n",
       " 'new',\n",
       " 'photo',\n",
       " 'red',\n",
       " 'resembles',\n",
       " 'she',\n",
       " 'short',\n",
       " 'stain',\n",
       " 'the',\n",
       " 'tomorrow',\n",
       " 'wear',\n",
       " 'wearing',\n",
       " 'will',\n",
       " 'wine',\n",
       " 'wore']"
      ]
     },
     "execution_count": 18,
     "metadata": {},
     "output_type": "execute_result"
    }
   ],
   "source": [
    "voc = createVoc(docs)\n",
    "voc"
   ]
  },
  {
   "cell_type": "code",
   "execution_count": 19,
   "id": "3bfb7d06-5556-4677-9cce-53e86a1c4984",
   "metadata": {},
   "outputs": [],
   "source": [
    "def vector(doc, voc):\n",
    "    #creates a vector list given a doc (string) and a vocabulary list \n",
    "    query = createWordlist(doc)\n",
    "    vector = []\n",
    "    for word in voc:\n",
    "        if word in query:\n",
    "            vector.append(query.count(word))\n",
    "        else:\n",
    "            vector.append(0)\n",
    "    return vector"
   ]
  },
  {
   "cell_type": "code",
   "execution_count": 20,
   "id": "e1bcc2b0-2d7f-432b-9885-56692983b562",
   "metadata": {},
   "outputs": [],
   "source": [
    "doc1 = \"she wore a dress and red earrings\"\n",
    "doc2 = \"the dress has a red wine stain\""
   ]
  },
  {
   "cell_type": "code",
   "execution_count": 21,
   "id": "12f70b38-357e-42da-bb6c-09d6400706c9",
   "metadata": {},
   "outputs": [
    {
     "data": {
      "text/plain": [
       "['a', 'and', 'dress', 'earrings', 'red', 'she', 'wore']"
      ]
     },
     "execution_count": 21,
     "metadata": {},
     "output_type": "execute_result"
    }
   ],
   "source": [
    "createWordlist(doc1)"
   ]
  },
  {
   "cell_type": "code",
   "execution_count": 22,
   "id": "da54c529-8028-446d-879f-d7b26a8e6f22",
   "metadata": {},
   "outputs": [],
   "source": [
    "vec1 = vector(doc1, voc)\n",
    "vec2 = vector(doc2, voc)"
   ]
  },
  {
   "cell_type": "code",
   "execution_count": 23,
   "id": "532ced9f-7e24-41ae-9357-df3f7c37600d",
   "metadata": {},
   "outputs": [
    {
     "data": {
      "text/plain": [
       "0.4285714285714285"
      ]
     },
     "execution_count": 23,
     "metadata": {},
     "output_type": "execute_result"
    }
   ],
   "source": [
    "cosineSimilarity(vec1, vec2)"
   ]
  },
  {
   "cell_type": "code",
   "execution_count": 24,
   "id": "212f91fc-4f5d-4f3b-8310-fbc00b735fe8",
   "metadata": {},
   "outputs": [],
   "source": [
    "def getAllCosineSimilarity(docList):\n",
    "    allCosineSimilarity = []\n",
    "    voc = createVoc(docList)\n",
    "    for doc1 in docList:\n",
    "        docCosineSimilarity = []\n",
    "        vec1 = vector(doc1, voc)\n",
    "        for doc2 in docList:\n",
    "            vec2 = vector(doc2, voc)\n",
    "            docCosineSimilarity.append(cosineSimilarity(vec1, vec2))\n",
    "        allCosineSimilarity.append(docCosineSimilarity)\n",
    "    return allCosineSimilarity"
   ]
  },
  {
   "cell_type": "code",
   "execution_count": 26,
   "id": "e8dc50cb-ca6f-4f7a-a33d-52e1b25ad55d",
   "metadata": {},
   "outputs": [],
   "source": [
    "csMatrix = getAllCosineSimilarity(docs)"
   ]
  },
  {
   "cell_type": "code",
   "execution_count": 28,
   "id": "071356f7-ad7e-4a0d-89a5-d282f9321b90",
   "metadata": {},
   "outputs": [
    {
     "name": "stdout",
     "output_type": "stream",
     "text": [
      "Doc 0: she wore a dress and red earrings\n",
      "Doc 1: the dress has a red wine stain\n",
      "Doc 2: tomorrow I will wear my new red dress\n",
      "Doc 3: the red dress in the photo resembles the red dress she is wearing\n",
      "Doc 4: short dress\n",
      "Doc 5: red lipstick\n"
     ]
    },
    {
     "data": {
      "image/png": "[encoded data removed]",
      "text/plain": [
       "<Figure size 640x480 with 2 Axes>"
      ]
     },
     "metadata": {},
     "output_type": "display_data"
    }
   ],
   "source": [
    "import seaborn as sns\n",
    "import matplotlib.pyplot as plt\n",
    "\n",
    "graph = sns.heatmap(csMatrix)\n",
    "\n",
    "i = 0\n",
    "for doc in docs:\n",
    "    print(f'Doc {i}: {doc}')\n",
    "    i += 1"
   ]
  }
 ],
 "metadata": {
  "kernelspec": {
   "display_name": "Python 3 (ipykernel)",
   "language": "python",
   "name": "python3"
  },
  "language_info": {
   "codemirror_mode": {
    "name": "ipython",
    "version": 3
   },
   "file_extension": ".py",
   "mimetype": "text/x-python",
   "name": "python",
   "nbconvert_exporter": "python",
   "pygments_lexer": "ipython3",
   "version": "3.10.10"
  }
 },
 "nbformat": 4,
 "nbformat_minor": 5
}
