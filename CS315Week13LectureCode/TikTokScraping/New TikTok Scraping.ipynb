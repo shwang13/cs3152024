{
 "cells": [
  {
   "cell_type": "markdown",
   "id": "11f91b9d-8cd2-46c1-930d-0db5617b27fd",
   "metadata": {},
   "source": [
    "# New Tutorial on TikTok Scraping\n",
    "\n",
    "This tutorial does the following:\n",
    "\n",
    "1. Connects to an existing (open) Chrome instance. **[Part 1](#sec1)**\n",
    "2. It shows how we can get videos from a TikTok account page. **[Part 2](#sec2)**\n",
    "3. It scrolls to get a certain number of videos. **[Part 3](#sec3)**"
   ]
  },
  {
   "cell_type": "markdown",
   "id": "8a870e68-8252-434e-bbfe-47b487f2bd02",
   "metadata": {},
   "source": [
    "<a id=\"sec1\"></a>\n",
    "## Part 1: Create Chrome Instance\n",
    "\n",
    "**Important:** For this to work, you should already have the Google instance running on your computer. To do that, open a console and run the command for your browser (see below).\n",
    "\n",
    "\n",
    "**On Mac:**\n",
    "```\n",
    "/Applications/Google\\ Chrome.app/Contents/MacOS/Google\\ Chrome --remote-debugging-port=9222 --user-data-dir=\"/tmp/chrome_dev_test\"\n",
    "```\n",
    "\n",
    "**On Windows:**\n",
    "\n",
    "```\n",
    "C:\\Program Files (x86)\\Google\\Chrome\\Application\\chrome.exe\" --remote-debugging-port=9222 --user-data-dir=\"C:\\selenium\\ChromeTestProfile\n",
    "```"
   ]
  },
  {
   "cell_type": "markdown",
   "id": "6c0c085f-1d43-40ae-909f-f664a615c1e7",
   "metadata": {},
   "source": [
    "**New installation**\n",
    "\n",
    "If you don't have the following package, install it once."
   ]
  },
  {
   "cell_type": "code",
   "execution_count": 1,
   "id": "8a110b0c-cfc0-4590-95ee-5ba4ae4b3ff9",
   "metadata": {},
   "outputs": [
    {
     "name": "stdout",
     "output_type": "stream",
     "text": [
      "Collecting webdriver_manager\n",
      "  Downloading webdriver_manager-4.0.1-py2.py3-none-any.whl.metadata (12 kB)\n",
      "Requirement already satisfied: requests in c:\\users\\shhwa\\miniconda3\\lib\\site-packages (from webdriver_manager) (2.31.0)\n",
      "Collecting python-dotenv (from webdriver_manager)\n",
      "  Downloading python_dotenv-1.0.1-py3-none-any.whl.metadata (23 kB)\n",
      "Requirement already satisfied: packaging in c:\\users\\shhwa\\miniconda3\\lib\\site-packages (from webdriver_manager) (23.2)\n",
      "Requirement already satisfied: charset-normalizer<4,>=2 in c:\\users\\shhwa\\miniconda3\\lib\\site-packages (from requests->webdriver_manager) (3.3.2)\n",
      "Requirement already satisfied: idna<4,>=2.5 in c:\\users\\shhwa\\miniconda3\\lib\\site-packages (from requests->webdriver_manager) (3.6)\n",
      "Requirement already satisfied: urllib3<3,>=1.21.1 in c:\\users\\shhwa\\miniconda3\\lib\\site-packages (from requests->webdriver_manager) (1.26.18)\n",
      "Requirement already satisfied: certifi>=2017.4.17 in c:\\users\\shhwa\\miniconda3\\lib\\site-packages (from requests->webdriver_manager) (2024.2.2)\n",
      "Downloading webdriver_manager-4.0.1-py2.py3-none-any.whl (27 kB)\n",
      "Downloading python_dotenv-1.0.1-py3-none-any.whl (19 kB)\n",
      "Installing collected packages: python-dotenv, webdriver_manager\n",
      "Successfully installed python-dotenv-1.0.1 webdriver_manager-4.0.1\n",
      "Note: you may need to restart the kernel to use updated packages.\n"
     ]
    }
   ],
   "source": [
    "pip install webdriver_manager"
   ]
  },
  {
   "cell_type": "markdown",
   "id": "8376e2a0-943c-47b4-9a9a-40a1ee0ae88d",
   "metadata": {},
   "source": [
    "Now you are ready to run the code below:"
   ]
  },
  {
   "cell_type": "code",
   "execution_count": 2,
   "id": "ee7c1141-84f6-4c0b-b0b5-475b1ddfef18",
   "metadata": {},
   "outputs": [
    {
     "ename": "WebDriverException",
     "evalue": "Message: unknown error: cannot connect to chrome at 127.0.0.1:9222\nfrom chrome not reachable\nStacktrace:\n\tGetHandleVerifier [0x00BF4CA3+225091]\n\t(No symbol) [0x00B24DF1]\n\t(No symbol) [0x009C9944]\n\t(No symbol) [0x009BD444]\n\t(No symbol) [0x009F477C]\n\t(No symbol) [0x009ED005]\n\t(No symbol) [0x009ECE47]\n\t(No symbol) [0x00A27C71]\n\t(No symbol) [0x00A2790A]\n\t(No symbol) [0x00A1F2F6]\n\t(No symbol) [0x009F79B9]\n\t(No symbol) [0x009F879D]\n\tsqlite3_dbdata_init [0x01069A43+4064547]\n\tsqlite3_dbdata_init [0x0107104A+4094762]\n\tsqlite3_dbdata_init [0x0106B948+4072488]\n\tsqlite3_dbdata_init [0x00D6C9A9+930953]\n\t(No symbol) [0x00B307C4]\n\t(No symbol) [0x00B2ACE8]\n\t(No symbol) [0x00B2AE11]\n\t(No symbol) [0x00B1CA80]\n\tBaseThreadInitThunk [0x76617BA9+25]\n\tRtlInitializeExceptionChain [0x770CBE3B+107]\n\tRtlClearBits [0x770CBDBF+191]\n",
     "output_type": "error",
     "traceback": [
      "\u001b[1;31m---------------------------------------------------------------------------\u001b[0m",
      "\u001b[1;31mWebDriverException\u001b[0m                        Traceback (most recent call last)",
      "Cell \u001b[1;32mIn[2], line 18\u001b[0m\n\u001b[0;32m     15\u001b[0m service \u001b[38;5;241m=\u001b[39m Service(ChromeDriverManager()\u001b[38;5;241m.\u001b[39minstall())\n\u001b[0;32m     17\u001b[0m \u001b[38;5;66;03m# Connect to the existing Chrome browser session\u001b[39;00m\n\u001b[1;32m---> 18\u001b[0m driver \u001b[38;5;241m=\u001b[39m \u001b[43mwebdriver\u001b[49m\u001b[38;5;241;43m.\u001b[39;49m\u001b[43mChrome\u001b[49m\u001b[43m(\u001b[49m\u001b[43mservice\u001b[49m\u001b[38;5;241;43m=\u001b[39;49m\u001b[43mservice\u001b[49m\u001b[43m,\u001b[49m\u001b[43m \u001b[49m\u001b[43moptions\u001b[49m\u001b[38;5;241;43m=\u001b[39;49m\u001b[43moptions\u001b[49m\u001b[43m)\u001b[49m\n\u001b[0;32m     20\u001b[0m \u001b[38;5;66;03m# Interact with the existing browser session\u001b[39;00m\n\u001b[0;32m     21\u001b[0m driver\u001b[38;5;241m.\u001b[39mget(\u001b[38;5;124m'\u001b[39m\u001b[38;5;124mhttp://www.tiktok.com/@nytimes\u001b[39m\u001b[38;5;124m'\u001b[39m)\n",
      "File \u001b[1;32m~\\miniconda3\\lib\\site-packages\\selenium\\webdriver\\chrome\\webdriver.py:45\u001b[0m, in \u001b[0;36mWebDriver.__init__\u001b[1;34m(self, options, service, keep_alive)\u001b[0m\n\u001b[0;32m     42\u001b[0m service \u001b[38;5;241m=\u001b[39m service \u001b[38;5;28;01mif\u001b[39;00m service \u001b[38;5;28;01melse\u001b[39;00m Service()\n\u001b[0;32m     43\u001b[0m options \u001b[38;5;241m=\u001b[39m options \u001b[38;5;28;01mif\u001b[39;00m options \u001b[38;5;28;01melse\u001b[39;00m Options()\n\u001b[1;32m---> 45\u001b[0m \u001b[38;5;28;43msuper\u001b[39;49m\u001b[43m(\u001b[49m\u001b[43m)\u001b[49m\u001b[38;5;241;43m.\u001b[39;49m\u001b[38;5;21;43m__init__\u001b[39;49m\u001b[43m(\u001b[49m\n\u001b[0;32m     46\u001b[0m \u001b[43m    \u001b[49m\u001b[43mbrowser_name\u001b[49m\u001b[38;5;241;43m=\u001b[39;49m\u001b[43mDesiredCapabilities\u001b[49m\u001b[38;5;241;43m.\u001b[39;49m\u001b[43mCHROME\u001b[49m\u001b[43m[\u001b[49m\u001b[38;5;124;43m\"\u001b[39;49m\u001b[38;5;124;43mbrowserName\u001b[39;49m\u001b[38;5;124;43m\"\u001b[39;49m\u001b[43m]\u001b[49m\u001b[43m,\u001b[49m\n\u001b[0;32m     47\u001b[0m \u001b[43m    \u001b[49m\u001b[43mvendor_prefix\u001b[49m\u001b[38;5;241;43m=\u001b[39;49m\u001b[38;5;124;43m\"\u001b[39;49m\u001b[38;5;124;43mgoog\u001b[39;49m\u001b[38;5;124;43m\"\u001b[39;49m\u001b[43m,\u001b[49m\n\u001b[0;32m     48\u001b[0m \u001b[43m    \u001b[49m\u001b[43moptions\u001b[49m\u001b[38;5;241;43m=\u001b[39;49m\u001b[43moptions\u001b[49m\u001b[43m,\u001b[49m\n\u001b[0;32m     49\u001b[0m \u001b[43m    \u001b[49m\u001b[43mservice\u001b[49m\u001b[38;5;241;43m=\u001b[39;49m\u001b[43mservice\u001b[49m\u001b[43m,\u001b[49m\n\u001b[0;32m     50\u001b[0m \u001b[43m    \u001b[49m\u001b[43mkeep_alive\u001b[49m\u001b[38;5;241;43m=\u001b[39;49m\u001b[43mkeep_alive\u001b[49m\u001b[43m,\u001b[49m\n\u001b[0;32m     51\u001b[0m \u001b[43m\u001b[49m\u001b[43m)\u001b[49m\n",
      "File \u001b[1;32m~\\miniconda3\\lib\\site-packages\\selenium\\webdriver\\chromium\\webdriver.py:61\u001b[0m, in \u001b[0;36mChromiumDriver.__init__\u001b[1;34m(self, browser_name, vendor_prefix, options, service, keep_alive)\u001b[0m\n\u001b[0;32m     52\u001b[0m executor \u001b[38;5;241m=\u001b[39m ChromiumRemoteConnection(\n\u001b[0;32m     53\u001b[0m     remote_server_addr\u001b[38;5;241m=\u001b[39m\u001b[38;5;28mself\u001b[39m\u001b[38;5;241m.\u001b[39mservice\u001b[38;5;241m.\u001b[39mservice_url,\n\u001b[0;32m     54\u001b[0m     browser_name\u001b[38;5;241m=\u001b[39mbrowser_name,\n\u001b[1;32m   (...)\u001b[0m\n\u001b[0;32m     57\u001b[0m     ignore_proxy\u001b[38;5;241m=\u001b[39moptions\u001b[38;5;241m.\u001b[39m_ignore_local_proxy,\n\u001b[0;32m     58\u001b[0m )\n\u001b[0;32m     60\u001b[0m \u001b[38;5;28;01mtry\u001b[39;00m:\n\u001b[1;32m---> 61\u001b[0m     \u001b[38;5;28;43msuper\u001b[39;49m\u001b[43m(\u001b[49m\u001b[43m)\u001b[49m\u001b[38;5;241;43m.\u001b[39;49m\u001b[38;5;21;43m__init__\u001b[39;49m\u001b[43m(\u001b[49m\u001b[43mcommand_executor\u001b[49m\u001b[38;5;241;43m=\u001b[39;49m\u001b[43mexecutor\u001b[49m\u001b[43m,\u001b[49m\u001b[43m \u001b[49m\u001b[43moptions\u001b[49m\u001b[38;5;241;43m=\u001b[39;49m\u001b[43moptions\u001b[49m\u001b[43m)\u001b[49m\n\u001b[0;32m     62\u001b[0m \u001b[38;5;28;01mexcept\u001b[39;00m \u001b[38;5;167;01mException\u001b[39;00m:\n\u001b[0;32m     63\u001b[0m     \u001b[38;5;28mself\u001b[39m\u001b[38;5;241m.\u001b[39mquit()\n",
      "File \u001b[1;32m~\\miniconda3\\lib\\site-packages\\selenium\\webdriver\\remote\\webdriver.py:208\u001b[0m, in \u001b[0;36mWebDriver.__init__\u001b[1;34m(self, command_executor, keep_alive, file_detector, options)\u001b[0m\n\u001b[0;32m    206\u001b[0m \u001b[38;5;28mself\u001b[39m\u001b[38;5;241m.\u001b[39m_authenticator_id \u001b[38;5;241m=\u001b[39m \u001b[38;5;28;01mNone\u001b[39;00m\n\u001b[0;32m    207\u001b[0m \u001b[38;5;28mself\u001b[39m\u001b[38;5;241m.\u001b[39mstart_client()\n\u001b[1;32m--> 208\u001b[0m \u001b[38;5;28;43mself\u001b[39;49m\u001b[38;5;241;43m.\u001b[39;49m\u001b[43mstart_session\u001b[49m\u001b[43m(\u001b[49m\u001b[43mcapabilities\u001b[49m\u001b[43m)\u001b[49m\n",
      "File \u001b[1;32m~\\miniconda3\\lib\\site-packages\\selenium\\webdriver\\remote\\webdriver.py:292\u001b[0m, in \u001b[0;36mWebDriver.start_session\u001b[1;34m(self, capabilities)\u001b[0m\n\u001b[0;32m    285\u001b[0m \u001b[38;5;250m\u001b[39m\u001b[38;5;124;03m\"\"\"Creates a new session with the desired capabilities.\u001b[39;00m\n\u001b[0;32m    286\u001b[0m \n\u001b[0;32m    287\u001b[0m \u001b[38;5;124;03m:Args:\u001b[39;00m\n\u001b[0;32m    288\u001b[0m \u001b[38;5;124;03m - capabilities - a capabilities dict to start the session with.\u001b[39;00m\n\u001b[0;32m    289\u001b[0m \u001b[38;5;124;03m\"\"\"\u001b[39;00m\n\u001b[0;32m    291\u001b[0m caps \u001b[38;5;241m=\u001b[39m _create_caps(capabilities)\n\u001b[1;32m--> 292\u001b[0m response \u001b[38;5;241m=\u001b[39m \u001b[38;5;28;43mself\u001b[39;49m\u001b[38;5;241;43m.\u001b[39;49m\u001b[43mexecute\u001b[49m\u001b[43m(\u001b[49m\u001b[43mCommand\u001b[49m\u001b[38;5;241;43m.\u001b[39;49m\u001b[43mNEW_SESSION\u001b[49m\u001b[43m,\u001b[49m\u001b[43m \u001b[49m\u001b[43mcaps\u001b[49m\u001b[43m)\u001b[49m[\u001b[38;5;124m\"\u001b[39m\u001b[38;5;124mvalue\u001b[39m\u001b[38;5;124m\"\u001b[39m]\n\u001b[0;32m    293\u001b[0m \u001b[38;5;28mself\u001b[39m\u001b[38;5;241m.\u001b[39msession_id \u001b[38;5;241m=\u001b[39m response\u001b[38;5;241m.\u001b[39mget(\u001b[38;5;124m\"\u001b[39m\u001b[38;5;124msessionId\u001b[39m\u001b[38;5;124m\"\u001b[39m)\n\u001b[0;32m    294\u001b[0m \u001b[38;5;28mself\u001b[39m\u001b[38;5;241m.\u001b[39mcaps \u001b[38;5;241m=\u001b[39m response\u001b[38;5;241m.\u001b[39mget(\u001b[38;5;124m\"\u001b[39m\u001b[38;5;124mcapabilities\u001b[39m\u001b[38;5;124m\"\u001b[39m)\n",
      "File \u001b[1;32m~\\miniconda3\\lib\\site-packages\\selenium\\webdriver\\remote\\webdriver.py:347\u001b[0m, in \u001b[0;36mWebDriver.execute\u001b[1;34m(self, driver_command, params)\u001b[0m\n\u001b[0;32m    345\u001b[0m response \u001b[38;5;241m=\u001b[39m \u001b[38;5;28mself\u001b[39m\u001b[38;5;241m.\u001b[39mcommand_executor\u001b[38;5;241m.\u001b[39mexecute(driver_command, params)\n\u001b[0;32m    346\u001b[0m \u001b[38;5;28;01mif\u001b[39;00m response:\n\u001b[1;32m--> 347\u001b[0m     \u001b[38;5;28;43mself\u001b[39;49m\u001b[38;5;241;43m.\u001b[39;49m\u001b[43merror_handler\u001b[49m\u001b[38;5;241;43m.\u001b[39;49m\u001b[43mcheck_response\u001b[49m\u001b[43m(\u001b[49m\u001b[43mresponse\u001b[49m\u001b[43m)\u001b[49m\n\u001b[0;32m    348\u001b[0m     response[\u001b[38;5;124m\"\u001b[39m\u001b[38;5;124mvalue\u001b[39m\u001b[38;5;124m\"\u001b[39m] \u001b[38;5;241m=\u001b[39m \u001b[38;5;28mself\u001b[39m\u001b[38;5;241m.\u001b[39m_unwrap_value(response\u001b[38;5;241m.\u001b[39mget(\u001b[38;5;124m\"\u001b[39m\u001b[38;5;124mvalue\u001b[39m\u001b[38;5;124m\"\u001b[39m, \u001b[38;5;28;01mNone\u001b[39;00m))\n\u001b[0;32m    349\u001b[0m     \u001b[38;5;28;01mreturn\u001b[39;00m response\n",
      "File \u001b[1;32m~\\miniconda3\\lib\\site-packages\\selenium\\webdriver\\remote\\errorhandler.py:229\u001b[0m, in \u001b[0;36mErrorHandler.check_response\u001b[1;34m(self, response)\u001b[0m\n\u001b[0;32m    227\u001b[0m         alert_text \u001b[38;5;241m=\u001b[39m value[\u001b[38;5;124m\"\u001b[39m\u001b[38;5;124malert\u001b[39m\u001b[38;5;124m\"\u001b[39m]\u001b[38;5;241m.\u001b[39mget(\u001b[38;5;124m\"\u001b[39m\u001b[38;5;124mtext\u001b[39m\u001b[38;5;124m\"\u001b[39m)\n\u001b[0;32m    228\u001b[0m     \u001b[38;5;28;01mraise\u001b[39;00m exception_class(message, screen, stacktrace, alert_text)  \u001b[38;5;66;03m# type: ignore[call-arg]  # mypy is not smart enough here\u001b[39;00m\n\u001b[1;32m--> 229\u001b[0m \u001b[38;5;28;01mraise\u001b[39;00m exception_class(message, screen, stacktrace)\n",
      "\u001b[1;31mWebDriverException\u001b[0m: Message: unknown error: cannot connect to chrome at 127.0.0.1:9222\nfrom chrome not reachable\nStacktrace:\n\tGetHandleVerifier [0x00BF4CA3+225091]\n\t(No symbol) [0x00B24DF1]\n\t(No symbol) [0x009C9944]\n\t(No symbol) [0x009BD444]\n\t(No symbol) [0x009F477C]\n\t(No symbol) [0x009ED005]\n\t(No symbol) [0x009ECE47]\n\t(No symbol) [0x00A27C71]\n\t(No symbol) [0x00A2790A]\n\t(No symbol) [0x00A1F2F6]\n\t(No symbol) [0x009F79B9]\n\t(No symbol) [0x009F879D]\n\tsqlite3_dbdata_init [0x01069A43+4064547]\n\tsqlite3_dbdata_init [0x0107104A+4094762]\n\tsqlite3_dbdata_init [0x0106B948+4072488]\n\tsqlite3_dbdata_init [0x00D6C9A9+930953]\n\t(No symbol) [0x00B307C4]\n\t(No symbol) [0x00B2ACE8]\n\t(No symbol) [0x00B2AE11]\n\t(No symbol) [0x00B1CA80]\n\tBaseThreadInitThunk [0x76617BA9+25]\n\tRtlInitializeExceptionChain [0x770CBE3B+107]\n\tRtlClearBits [0x770CBDBF+191]\n"
     ]
    }
   ],
   "source": [
    "from selenium import webdriver\n",
    "from selenium.webdriver.chrome.options import Options\n",
    "from selenium.webdriver.chrome.service import Service\n",
    "from webdriver_manager.chrome import ChromeDriverManager\n",
    "from selenium.webdriver.common.by import By\n",
    "from selenium.webdriver.common.action_chains import ActionChains\n",
    "from selenium.webdriver.common.keys import Keys\n",
    "import time\n",
    "\n",
    "# Set up Chrome options\n",
    "options = Options()\n",
    "options.add_experimental_option(\"debuggerAddress\", \"127.0.0.1:9222\")\n",
    "\n",
    "# Path to your ChromeDriver\n",
    "service = Service(ChromeDriverManager().install())\n",
    "\n",
    "# Connect to the existing Chrome browser session\n",
    "driver = webdriver.Chrome(service=service, options=options)\n",
    "\n",
    "# Interact with the existing browser session\n",
    "driver.get('http://www.tiktok.com/@nytimes')"
   ]
  },
  {
   "cell_type": "code",
   "execution_count": null,
   "id": "d195d588-0bc4-457c-aa3a-905fc185b180",
   "metadata": {},
   "outputs": [],
   "source": [
    "driver.title"
   ]
  },
  {
   "cell_type": "markdown",
   "id": "fa954dd5-9c26-496c-a778-7d74d3872941",
   "metadata": {},
   "source": [
    "<a id=\"sec2\"></a>\n",
    "## Part 2: Getting Videos from a TikTok Page\n",
    "\n",
    "\n",
    "I will be using class names to find some HTML elements that are useful for the scraping. These are:\n",
    "\n",
    "```\n",
    "CONTAINER_CLASS = \"eegew6e2\"\n",
    "VIDEO_CLASS = \"e19c29qe8\"\n",
    "DESC_CLASS = \"eih2qak4\"\n",
    "```\n",
    "\n",
    "I am creating variables for them, so that if these classes change, we can plug in here the new class names."
   ]
  },
  {
   "cell_type": "code",
   "execution_count": null,
   "id": "7b5ee862-9ddc-4b17-bbae-5db12d7bb020",
   "metadata": {},
   "outputs": [],
   "source": [
    "CONTAINER_CLASS = \"eegew6e2\" \n",
    "VIDEO_CLASS = \"e19c29qe8\"\n",
    "DESC_CLASS = \"eih2qak4\""
   ]
  },
  {
   "cell_type": "markdown",
   "id": "09bc5715-df61-48d3-98ae-68854c14e073",
   "metadata": {},
   "source": [
    "Here is a function that will get the posts (both URLs and descriptions of each video):"
   ]
  },
  {
   "cell_type": "code",
   "execution_count": null,
   "id": "6152340f-efb2-4f9c-a7c9-96bb175f858f",
   "metadata": {},
   "outputs": [],
   "source": [
    "def getVideosAndDescriptions(driver):\n",
    "    \"\"\"Given an open driver instance on a TikTok account page, \n",
    "    get the list of video URLs that are accessible.\n",
    "    \"\"\"\n",
    "    time.sleep(2) # in case the page hasn't loaded yet\n",
    "\n",
    "    # Get the container of the videos\n",
    "    try:\n",
    "        container = driver.find_element(By.CLASS_NAME, \"eegew6e2\")\n",
    "    except Exception as e:\n",
    "        print(f\"Container: An unexpected error occurred: {e}\")\n",
    "        return []\n",
    "\n",
    "    # Get the video elements\n",
    "    try:\n",
    "        posts = container.find_elements(By.CLASS_NAME, VIDEO_CLASS)\n",
    "    except Exception as e:\n",
    "        print(f\"Post: An unexpected error occurred: {e}\")\n",
    "        return []\n",
    "\n",
    "    # Get the URLs of the videos\n",
    "    try:\n",
    "        urls = [post.find_element(By.TAG_NAME, \"a\").get_attribute('href') for post in posts]\n",
    "    except Exception as e:\n",
    "        print(f\"URL: An unexpected error occurred: {e}\")\n",
    "        return []\n",
    "\n",
    "    # Get the description of each post. Since some of them don't have one, we'll add an empty string\n",
    "    descriptions = []\n",
    "    for post in posts:\n",
    "        try:\n",
    "            desc = post.find_element(By.CLASS_NAME, DESC_CLASS).text\n",
    "            descriptions.append(desc)\n",
    "        except:\n",
    "            descriptions.append('')\n",
    "\n",
    "    # Combine together urls and descriptions\n",
    "    return list(zip(urls, descriptions))"
   ]
  },
  {
   "cell_type": "markdown",
   "id": "68f0317e-1b08-462d-879f-45b47e20f4be",
   "metadata": {},
   "source": [
    "Now let's try this out with the videos from a famous account"
   ]
  },
  {
   "cell_type": "code",
   "execution_count": null,
   "id": "b73b6119-2b3d-434e-b203-eaad805cc111",
   "metadata": {},
   "outputs": [],
   "source": [
    "url = \"https://www.tiktok.com/@taylorswift\"\n",
    "driver.get(url)\n",
    "posts = getVideosAndDescriptions(driver)\n",
    "len(posts)"
   ]
  },
  {
   "cell_type": "markdown",
   "id": "138c6519-7578-4a92-adb1-d92c9c6d2ad9",
   "metadata": {},
   "source": [
    "Show a few posts:"
   ]
  },
  {
   "cell_type": "code",
   "execution_count": null,
   "id": "b815d9fa-45b4-422e-8137-40e7e4bf6590",
   "metadata": {},
   "outputs": [],
   "source": [
    "posts[:3]"
   ]
  },
  {
   "cell_type": "markdown",
   "id": "bebf07dd-ba3d-4e73-a4e7-d8094b3e8281",
   "metadata": {},
   "source": [
    "**Note:** By default, when visiting the page of a Tiktok account, we only get the first 35 posts. If we want more, we need to scroll down."
   ]
  },
  {
   "cell_type": "markdown",
   "id": "96cf26d0-0662-4a16-aa13-2a5734393297",
   "metadata": {},
   "source": [
    "<a id=\"sec3\"></a>\n",
    "## Part 3: Scrolling down the page\n",
    "\n",
    "We show how we can scroll for a few times:"
   ]
  },
  {
   "cell_type": "code",
   "execution_count": null,
   "id": "4228868d-d810-41be-8a10-9e35345d134f",
   "metadata": {},
   "outputs": [],
   "source": [
    "# We press the arrow_down key every 1/10 of a second\n",
    "\n",
    "actions = ActionChains(driver)\n",
    "\n",
    "for i in range(50):\n",
    "    actions.send_keys(Keys.ARROW_DOWN)\n",
    "    actions.perform()\n",
    "    time.sleep(0.1)"
   ]
  },
  {
   "cell_type": "markdown",
   "id": "b3728e92-e058-4fd7-a979-5d20bdec63c5",
   "metadata": {},
   "source": [
    "We can call the function to get the posts:"
   ]
  },
  {
   "cell_type": "code",
   "execution_count": null,
   "id": "16068047-35c9-4afa-af8e-6565dfc026f3",
   "metadata": {},
   "outputs": [],
   "source": [
    "posts = getVideosAndDescriptions(driver)\n",
    "len(posts)"
   ]
  },
  {
   "cell_type": "markdown",
   "id": "e05ffd1a-0dbb-4e52-9b4d-2b486cf4dbba",
   "metadata": {},
   "source": [
    "As we can see, by scrolling down for 50 keys, our document went from 35 posts to 104 posts. \n",
    "\n",
    "My tests have shown that when scrolling, the posts don't disappear from the DOM, once they have seen, they remain there. Thus, we can scroll for a while and then stop and save all the posts."
   ]
  },
  {
   "cell_type": "code",
   "execution_count": null,
   "id": "aee07177-ee22-4cce-853c-564a33d195a3",
   "metadata": {},
   "outputs": [],
   "source": [
    "accounts = ['nytimes', 'washingtonpost', 'bbcnews']\n",
    "\n",
    "for acc in accounts:\n",
    "    url = f\"https://www.tiktok.com/@{acc}\"\n",
    "    driver.get(url)\n",
    "\n",
    "    # Scroll down for a while to load posts\n",
    "    for i in range(150):\n",
    "        actions.send_keys(Keys.ARROW_DOWN)\n",
    "        actions.perform()\n",
    "        time.sleep(0.1)\n",
    "\n",
    "    posts = getVideosAndDescriptions(driver)\n",
    "    print(acc, len(posts))\n",
    "\n",
    "    # Save in different files\n",
    "    import json\n",
    "    with open(f\"{acc}.json\", 'w') as fout:\n",
    "        json.dump(posts, fout)"
   ]
  }
 ],
 "metadata": {
  "kernelspec": {
   "display_name": "Python 3 (ipykernel)",
   "language": "python",
   "name": "python3"
  },
  "language_info": {
   "codemirror_mode": {
    "name": "ipython",
    "version": 3
   },
   "file_extension": ".py",
   "mimetype": "text/x-python",
   "name": "python",
   "nbconvert_exporter": "python",
   "pygments_lexer": "ipython3",
   "version": "3.10.10"
  }
 },
 "nbformat": 4,
 "nbformat_minor": 5
}
