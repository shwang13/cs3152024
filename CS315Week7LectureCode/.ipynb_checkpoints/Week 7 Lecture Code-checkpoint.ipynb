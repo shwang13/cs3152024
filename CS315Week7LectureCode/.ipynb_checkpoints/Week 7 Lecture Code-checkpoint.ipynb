{
 "cells": [
  {
   "cell_type": "markdown",
   "id": "c975a0c6-bdfb-4756-b87e-ca68a05f5336",
   "metadata": {},
   "source": [
    "# Week 7 Lecture Code: Word Embeddings / Clustering / tSNE visualization\n",
    "\n",
    "**March 2024**\n",
    "\n",
    "This is code that was discussed in the class notes for the two lectures in Week 7.\n",
    "\n",
    "**Table of Content**\n",
    "\n",
    "1. [Installing packages](#sec1)\n",
    "2. [Generating Word Embeddings and heatmaps for cosine similarity](#sec2)\n",
    "3. [K-means clustering with word embeddings](#sec3)\n",
    "4. [Using the Elbow method to find the best k for k-means](#sec4)\n",
    "5. [t-SNE visualization](#sec5)"
   ]
  },
  {
   "cell_type": "markdown",
   "id": "b15700c2-2db5-4123-adbf-87755d31dd4c",
   "metadata": {},
   "source": [
    "<a id=\"sec1\"></a>\n",
    "## 1. Installing Packages\n",
    "\n",
    "This notebook contains several packages that we are using for the first time. Additionally, we might need to use these packages for the project too, thus, it's good if we install them within the virtual environment of the project.  \n",
    "\n",
    "However, if we install the packages within Jupyter, they are installed in our system-wide Python installation. We need to take some extra steps to ensure that the new packages are installed for our project-specific virtual environment. Here is what you need to do:\n",
    "\n",
    "1. Make sure that you have created the virtual environment for Project 2 (about collecting data with PykTok). You can find the instructions under Week 7 Programming Activities.\n",
    "2. Open a terminal window, navigate to the folder where you created your virtual environment, and then type `source .project2/bin/activate`.\n",
    "3. Install the following package: `pip install ipykernel`, to manage virtual environments within Jupyter notebooks.\n",
    "4. Register our virtual environment with Jupyter: `python -m ipykernel install --user --name=.project2 --display-name=\"CS315 Project2`\n",
    "5. At this point close this notebook and then restart it again.\n",
    "6. When you reopen the notebook, find the button \"Python 3 (ipykernel)\" on the top right corner. Click on it, you should see the following dialog, where you should select our virtual environment that we gave the display name CS315 Project2: ![Screenshot: Kernel selection](https://cs.wellesley.edu/~eni/cs315/choose-kernel.png)\n",
    "7. Before moving on, run the cell below, just to make sure that you are really running the virtual environment."
   ]
  },
  {
   "cell_type": "code",
   "execution_count": 1,
   "id": "2b598aa2-6f7b-4bda-a206-92738cb72868",
   "metadata": {},
   "outputs": [
    {
     "name": "stdout",
     "output_type": "stream",
     "text": [
      "C:\\Users\\shhwa\\miniconda3\\python.exe\n"
     ]
    }
   ],
   "source": [
    "import sys\n",
    "print(sys.executable)"
   ]
  },
  {
   "cell_type": "markdown",
   "id": "8cb68a5c-ab89-4854-b330-07b3566fcf4a",
   "metadata": {},
   "source": [
    "If all the prior steps were successful, you should be able to see something similar to the path below, including `.project2/bin/python`\n",
    "![Screenshot: Path](https://cs.wellesley.edu/~eni/cs315/path-confirmation.png)"
   ]
  },
  {
   "cell_type": "markdown",
   "id": "5f6bfb92-281f-489e-93c4-10412413f213",
   "metadata": {},
   "source": [
    "Now you are ready to continue with the following installations for libraries used in this notebook:"
   ]
  },
  {
   "cell_type": "code",
   "execution_count": 5,
   "id": "dd5f3054-6cc6-4f72-94d6-6b83014b1069",
   "metadata": {},
   "outputs": [
    {
     "name": "stdout",
     "output_type": "stream",
     "text": [
      "^C\n",
      "Note: you may need to restart the kernel to use updated packages.\n",
      "Collecting tensorflow\n",
      "  Using cached tensorflow-2.16.1-cp310-cp310-win_amd64.whl.metadata (3.5 kB)\n",
      "Collecting tensorflow_hub\n",
      "  Using cached tensorflow_hub-0.16.1-py2.py3-none-any.whl.metadata (1.3 kB)\n",
      "Requirement already satisfied: scikit-learn in c:\\users\\shhwa\\miniconda3\\lib\\site-packages (1.4.1.post1)\n",
      "Requirement already satisfied: seaborn in c:\\users\\shhwa\\miniconda3\\lib\\site-packages (0.13.2)\n",
      "Requirement already satisfied: plotly in c:\\users\\shhwa\\miniconda3\\lib\\site-packages (5.20.0)\n",
      "Requirement already satisfied: nbformat in c:\\users\\shhwa\\miniconda3\\lib\\site-packages (5.9.2)\n",
      "Collecting tensorflow-intel==2.16.1 (from tensorflow)\n",
      "  Using cached tensorflow_intel-2.16.1-cp310-cp310-win_amd64.whl.metadata (5.0 kB)\n",
      "Requirement already satisfied: absl-py>=1.0.0 in c:\\users\\shhwa\\miniconda3\\lib\\site-packages (from tensorflow-intel==2.16.1->tensorflow) (2.1.0)\n",
      "Requirement already satisfied: astunparse>=1.6.0 in c:\\users\\shhwa\\miniconda3\\lib\\site-packages (from tensorflow-intel==2.16.1->tensorflow) (1.6.3)\n",
      "Requirement already satisfied: flatbuffers>=23.5.26 in c:\\users\\shhwa\\miniconda3\\lib\\site-packages (from tensorflow-intel==2.16.1->tensorflow) (24.3.25)\n",
      "Requirement already satisfied: gast!=0.5.0,!=0.5.1,!=0.5.2,>=0.2.1 in c:\\users\\shhwa\\miniconda3\\lib\\site-packages (from tensorflow-intel==2.16.1->tensorflow) (0.5.4)\n",
      "Requirement already satisfied: google-pasta>=0.1.1 in c:\\users\\shhwa\\miniconda3\\lib\\site-packages (from tensorflow-intel==2.16.1->tensorflow) (0.2.0)\n",
      "Requirement already satisfied: h5py>=3.10.0 in c:\\users\\shhwa\\miniconda3\\lib\\site-packages (from tensorflow-intel==2.16.1->tensorflow) (3.10.0)\n",
      "Requirement already satisfied: libclang>=13.0.0 in c:\\users\\shhwa\\miniconda3\\lib\\site-packages (from tensorflow-intel==2.16.1->tensorflow) (18.1.1)\n",
      "Requirement already satisfied: ml-dtypes~=0.3.1 in c:\\users\\shhwa\\miniconda3\\lib\\site-packages (from tensorflow-intel==2.16.1->tensorflow) (0.3.2)\n",
      "Requirement already satisfied: opt-einsum>=2.3.2 in c:\\users\\shhwa\\miniconda3\\lib\\site-packages (from tensorflow-intel==2.16.1->tensorflow) (3.3.0)\n",
      "Requirement already satisfied: packaging in c:\\users\\shhwa\\miniconda3\\lib\\site-packages (from tensorflow-intel==2.16.1->tensorflow) (23.2)\n",
      "Requirement already satisfied: protobuf!=4.21.0,!=4.21.1,!=4.21.2,!=4.21.3,!=4.21.4,!=4.21.5,<5.0.0dev,>=3.20.3 in c:\\users\\shhwa\\miniconda3\\lib\\site-packages (from tensorflow-intel==2.16.1->tensorflow) (4.25.3)\n",
      "Requirement already satisfied: requests<3,>=2.21.0 in c:\\users\\shhwa\\miniconda3\\lib\\site-packages (from tensorflow-intel==2.16.1->tensorflow) (2.31.0)\n",
      "Requirement already satisfied: setuptools in c:\\users\\shhwa\\miniconda3\\lib\\site-packages (from tensorflow-intel==2.16.1->tensorflow) (69.1.0)\n",
      "Requirement already satisfied: six>=1.12.0 in c:\\users\\shhwa\\miniconda3\\lib\\site-packages (from tensorflow-intel==2.16.1->tensorflow) (1.16.0)\n",
      "Requirement already satisfied: termcolor>=1.1.0 in c:\\users\\shhwa\\miniconda3\\lib\\site-packages (from tensorflow-intel==2.16.1->tensorflow) (2.4.0)\n",
      "Requirement already satisfied: typing-extensions>=3.6.6 in c:\\users\\shhwa\\miniconda3\\lib\\site-packages (from tensorflow-intel==2.16.1->tensorflow) (4.9.0)\n",
      "Requirement already satisfied: wrapt>=1.11.0 in c:\\users\\shhwa\\miniconda3\\lib\\site-packages (from tensorflow-intel==2.16.1->tensorflow) (1.16.0)\n",
      "Requirement already satisfied: grpcio<2.0,>=1.24.3 in c:\\users\\shhwa\\miniconda3\\lib\\site-packages (from tensorflow-intel==2.16.1->tensorflow) (1.62.1)\n",
      "Requirement already satisfied: tensorboard<2.17,>=2.16 in c:\\users\\shhwa\\miniconda3\\lib\\site-packages (from tensorflow-intel==2.16.1->tensorflow) (2.16.2)\n",
      "Collecting keras>=3.0.0 (from tensorflow-intel==2.16.1->tensorflow)\n",
      "  Using cached keras-3.1.1-py3-none-any.whl.metadata (5.6 kB)\n",
      "Requirement already satisfied: tensorflow-io-gcs-filesystem>=0.23.1 in c:\\users\\shhwa\\miniconda3\\lib\\site-packages (from tensorflow-intel==2.16.1->tensorflow) (0.31.0)\n",
      "Requirement already satisfied: numpy<2.0.0,>=1.23.5 in c:\\users\\shhwa\\miniconda3\\lib\\site-packages (from tensorflow-intel==2.16.1->tensorflow) (1.26.4)\n",
      "Collecting tf-keras>=2.14.1 (from tensorflow_hub)\n",
      "  Using cached tf_keras-2.16.0-py3-none-any.whl.metadata (1.6 kB)\n",
      "Requirement already satisfied: scipy>=1.6.0 in c:\\users\\shhwa\\miniconda3\\lib\\site-packages (from scikit-learn) (1.12.0)\n",
      "Requirement already satisfied: joblib>=1.2.0 in c:\\users\\shhwa\\miniconda3\\lib\\site-packages (from scikit-learn) (1.3.2)\n",
      "Requirement already satisfied: threadpoolctl>=2.0.0 in c:\\users\\shhwa\\miniconda3\\lib\\site-packages (from scikit-learn) (3.4.0)\n",
      "Requirement already satisfied: pandas>=1.2 in c:\\users\\shhwa\\miniconda3\\lib\\site-packages (from seaborn) (2.2.0)\n",
      "Requirement already satisfied: matplotlib!=3.6.1,>=3.4 in c:\\users\\shhwa\\miniconda3\\lib\\site-packages (from seaborn) (3.8.2)\n",
      "Requirement already satisfied: tenacity>=6.2.0 in c:\\users\\shhwa\\miniconda3\\lib\\site-packages (from plotly) (8.2.3)\n",
      "Requirement already satisfied: fastjsonschema in c:\\users\\shhwa\\miniconda3\\lib\\site-packages (from nbformat) (2.19.1)\n",
      "Requirement already satisfied: jsonschema>=2.6 in c:\\users\\shhwa\\miniconda3\\lib\\site-packages (from nbformat) (4.21.1)\n",
      "Requirement already satisfied: jupyter-core in c:\\users\\shhwa\\miniconda3\\lib\\site-packages (from nbformat) (5.7.1)\n",
      "Requirement already satisfied: traitlets>=5.1 in c:\\users\\shhwa\\miniconda3\\lib\\site-packages (from nbformat) (5.14.1)\n",
      "Requirement already satisfied: attrs>=22.2.0 in c:\\users\\shhwa\\miniconda3\\lib\\site-packages (from jsonschema>=2.6->nbformat) (23.2.0)\n",
      "Requirement already satisfied: jsonschema-specifications>=2023.03.6 in c:\\users\\shhwa\\miniconda3\\lib\\site-packages (from jsonschema>=2.6->nbformat) (2023.12.1)\n",
      "Requirement already satisfied: referencing>=0.28.4 in c:\\users\\shhwa\\miniconda3\\lib\\site-packages (from jsonschema>=2.6->nbformat) (0.33.0)\n",
      "Requirement already satisfied: rpds-py>=0.7.1 in c:\\users\\shhwa\\miniconda3\\lib\\site-packages (from jsonschema>=2.6->nbformat) (0.17.1)\n",
      "Requirement already satisfied: contourpy>=1.0.1 in c:\\users\\shhwa\\miniconda3\\lib\\site-packages (from matplotlib!=3.6.1,>=3.4->seaborn) (1.2.0)\n",
      "Requirement already satisfied: cycler>=0.10 in c:\\users\\shhwa\\miniconda3\\lib\\site-packages (from matplotlib!=3.6.1,>=3.4->seaborn) (0.12.1)\n",
      "Requirement already satisfied: fonttools>=4.22.0 in c:\\users\\shhwa\\miniconda3\\lib\\site-packages (from matplotlib!=3.6.1,>=3.4->seaborn) (4.47.2)\n",
      "Requirement already satisfied: kiwisolver>=1.3.1 in c:\\users\\shhwa\\miniconda3\\lib\\site-packages (from matplotlib!=3.6.1,>=3.4->seaborn) (1.4.5)\n",
      "Requirement already satisfied: pillow>=8 in c:\\users\\shhwa\\miniconda3\\lib\\site-packages (from matplotlib!=3.6.1,>=3.4->seaborn) (10.2.0)\n",
      "Requirement already satisfied: pyparsing>=2.3.1 in c:\\users\\shhwa\\miniconda3\\lib\\site-packages (from matplotlib!=3.6.1,>=3.4->seaborn) (3.1.1)\n",
      "Requirement already satisfied: python-dateutil>=2.7 in c:\\users\\shhwa\\miniconda3\\lib\\site-packages (from matplotlib!=3.6.1,>=3.4->seaborn) (2.8.2)\n",
      "Requirement already satisfied: pytz>=2020.1 in c:\\users\\shhwa\\miniconda3\\lib\\site-packages (from pandas>=1.2->seaborn) (2024.1)\n",
      "Requirement already satisfied: tzdata>=2022.7 in c:\\users\\shhwa\\miniconda3\\lib\\site-packages (from pandas>=1.2->seaborn) (2023.4)\n",
      "Requirement already satisfied: platformdirs>=2.5 in c:\\users\\shhwa\\miniconda3\\lib\\site-packages (from jupyter-core->nbformat) (4.2.0)\n",
      "Requirement already satisfied: pywin32>=300 in c:\\users\\shhwa\\miniconda3\\lib\\site-packages (from jupyter-core->nbformat) (306)\n",
      "Requirement already satisfied: wheel<1.0,>=0.23.0 in c:\\users\\shhwa\\miniconda3\\lib\\site-packages (from astunparse>=1.6.0->tensorflow-intel==2.16.1->tensorflow) (0.42.0)\n",
      "Requirement already satisfied: rich in c:\\users\\shhwa\\miniconda3\\lib\\site-packages (from keras>=3.0.0->tensorflow-intel==2.16.1->tensorflow) (13.7.0)\n",
      "Requirement already satisfied: namex in c:\\users\\shhwa\\miniconda3\\lib\\site-packages (from keras>=3.0.0->tensorflow-intel==2.16.1->tensorflow) (0.0.7)\n",
      "Requirement already satisfied: optree in c:\\users\\shhwa\\miniconda3\\lib\\site-packages (from keras>=3.0.0->tensorflow-intel==2.16.1->tensorflow) (0.11.0)\n",
      "Requirement already satisfied: charset-normalizer<4,>=2 in c:\\users\\shhwa\\miniconda3\\lib\\site-packages (from requests<3,>=2.21.0->tensorflow-intel==2.16.1->tensorflow) (3.3.2)\n",
      "Requirement already satisfied: idna<4,>=2.5 in c:\\users\\shhwa\\miniconda3\\lib\\site-packages (from requests<3,>=2.21.0->tensorflow-intel==2.16.1->tensorflow) (3.6)\n",
      "Requirement already satisfied: urllib3<3,>=1.21.1 in c:\\users\\shhwa\\miniconda3\\lib\\site-packages (from requests<3,>=2.21.0->tensorflow-intel==2.16.1->tensorflow) (1.26.18)\n",
      "Requirement already satisfied: certifi>=2017.4.17 in c:\\users\\shhwa\\miniconda3\\lib\\site-packages (from requests<3,>=2.21.0->tensorflow-intel==2.16.1->tensorflow) (2024.2.2)\n",
      "Requirement already satisfied: markdown>=2.6.8 in c:\\users\\shhwa\\miniconda3\\lib\\site-packages (from tensorboard<2.17,>=2.16->tensorflow-intel==2.16.1->tensorflow) (3.6)\n",
      "Requirement already satisfied: tensorboard-data-server<0.8.0,>=0.7.0 in c:\\users\\shhwa\\miniconda3\\lib\\site-packages (from tensorboard<2.17,>=2.16->tensorflow-intel==2.16.1->tensorflow) (0.7.2)\n",
      "Requirement already satisfied: werkzeug>=1.0.1 in c:\\users\\shhwa\\miniconda3\\lib\\site-packages (from tensorboard<2.17,>=2.16->tensorflow-intel==2.16.1->tensorflow) (3.0.1)\n",
      "Requirement already satisfied: MarkupSafe>=2.1.1 in c:\\users\\shhwa\\miniconda3\\lib\\site-packages (from werkzeug>=1.0.1->tensorboard<2.17,>=2.16->tensorflow-intel==2.16.1->tensorflow) (2.1.4)\n",
      "Requirement already satisfied: markdown-it-py>=2.2.0 in c:\\users\\shhwa\\miniconda3\\lib\\site-packages (from rich->keras>=3.0.0->tensorflow-intel==2.16.1->tensorflow) (3.0.0)\n",
      "Requirement already satisfied: pygments<3.0.0,>=2.13.0 in c:\\users\\shhwa\\miniconda3\\lib\\site-packages (from rich->keras>=3.0.0->tensorflow-intel==2.16.1->tensorflow) (2.17.2)\n",
      "Requirement already satisfied: mdurl~=0.1 in c:\\users\\shhwa\\miniconda3\\lib\\site-packages (from markdown-it-py>=2.2.0->rich->keras>=3.0.0->tensorflow-intel==2.16.1->tensorflow) (0.1.2)\n",
      "Using cached tensorflow-2.16.1-cp310-cp310-win_amd64.whl (2.1 kB)\n",
      "Using cached tensorflow_intel-2.16.1-cp310-cp310-win_amd64.whl (376.9 MB)\n",
      "Using cached tensorflow_hub-0.16.1-py2.py3-none-any.whl (30 kB)\n",
      "Using cached tf_keras-2.16.0-py3-none-any.whl (1.7 MB)\n",
      "Using cached keras-3.1.1-py3-none-any.whl (1.1 MB)\n",
      "Installing collected packages: keras, tensorflow-intel, tensorflow, tf-keras, tensorflow_hub\n",
      "Successfully installed keras-3.1.1 tensorflow-2.16.1 tensorflow-intel-2.16.1 tensorflow_hub-0.16.1 tf-keras-2.16.0\n"
     ]
    }
   ],
   "source": [
    "pip install tensorflow tensorflow_hub scikit-learn seaborn plotly nbformat"
   ]
  },
  {
   "cell_type": "markdown",
   "id": "57827f06-5769-4441-8d93-73118488f8a8",
   "metadata": {},
   "source": [
    "If the installation was successful, you are ready to continue. If you run into issues, let me know."
   ]
  },
  {
   "cell_type": "code",
   "execution_count": 8,
   "id": "de766af9-02c4-435b-a3a2-a2a5841e0676",
   "metadata": {},
   "outputs": [
    {
     "name": "stdout",
     "output_type": "stream",
     "text": [
      "Collecting tensorflow\n",
      "  Using cached tensorflow-2.16.1-cp310-cp310-win_amd64.whl.metadata (3.5 kB)\n",
      "Collecting tensorflow-intel==2.16.1 (from tensorflow)\n",
      "  Using cached tensorflow_intel-2.16.1-cp310-cp310-win_amd64.whl.metadata (5.0 kB)\n",
      "Requirement already satisfied: absl-py>=1.0.0 in c:\\users\\shhwa\\miniconda3\\lib\\site-packages (from tensorflow-intel==2.16.1->tensorflow) (2.1.0)\n",
      "Requirement already satisfied: astunparse>=1.6.0 in c:\\users\\shhwa\\miniconda3\\lib\\site-packages (from tensorflow-intel==2.16.1->tensorflow) (1.6.3)\n",
      "Requirement already satisfied: flatbuffers>=23.5.26 in c:\\users\\shhwa\\miniconda3\\lib\\site-packages (from tensorflow-intel==2.16.1->tensorflow) (24.3.25)\n",
      "Requirement already satisfied: gast!=0.5.0,!=0.5.1,!=0.5.2,>=0.2.1 in c:\\users\\shhwa\\miniconda3\\lib\\site-packages (from tensorflow-intel==2.16.1->tensorflow) (0.5.4)\n",
      "Requirement already satisfied: google-pasta>=0.1.1 in c:\\users\\shhwa\\miniconda3\\lib\\site-packages (from tensorflow-intel==2.16.1->tensorflow) (0.2.0)\n",
      "Requirement already satisfied: h5py>=3.10.0 in c:\\users\\shhwa\\miniconda3\\lib\\site-packages (from tensorflow-intel==2.16.1->tensorflow) (3.10.0)\n",
      "Requirement already satisfied: libclang>=13.0.0 in c:\\users\\shhwa\\miniconda3\\lib\\site-packages (from tensorflow-intel==2.16.1->tensorflow) (18.1.1)\n",
      "Requirement already satisfied: ml-dtypes~=0.3.1 in c:\\users\\shhwa\\miniconda3\\lib\\site-packages (from tensorflow-intel==2.16.1->tensorflow) (0.3.2)\n",
      "Requirement already satisfied: opt-einsum>=2.3.2 in c:\\users\\shhwa\\miniconda3\\lib\\site-packages (from tensorflow-intel==2.16.1->tensorflow) (3.3.0)\n",
      "Requirement already satisfied: packaging in c:\\users\\shhwa\\miniconda3\\lib\\site-packages (from tensorflow-intel==2.16.1->tensorflow) (23.2)\n",
      "Requirement already satisfied: protobuf!=4.21.0,!=4.21.1,!=4.21.2,!=4.21.3,!=4.21.4,!=4.21.5,<5.0.0dev,>=3.20.3 in c:\\users\\shhwa\\miniconda3\\lib\\site-packages (from tensorflow-intel==2.16.1->tensorflow) (4.25.3)\n",
      "Requirement already satisfied: requests<3,>=2.21.0 in c:\\users\\shhwa\\miniconda3\\lib\\site-packages (from tensorflow-intel==2.16.1->tensorflow) (2.31.0)\n",
      "Requirement already satisfied: setuptools in c:\\users\\shhwa\\miniconda3\\lib\\site-packages (from tensorflow-intel==2.16.1->tensorflow) (69.1.0)\n",
      "Requirement already satisfied: six>=1.12.0 in c:\\users\\shhwa\\miniconda3\\lib\\site-packages (from tensorflow-intel==2.16.1->tensorflow) (1.16.0)\n",
      "Requirement already satisfied: termcolor>=1.1.0 in c:\\users\\shhwa\\miniconda3\\lib\\site-packages (from tensorflow-intel==2.16.1->tensorflow) (2.4.0)\n",
      "Requirement already satisfied: typing-extensions>=3.6.6 in c:\\users\\shhwa\\miniconda3\\lib\\site-packages (from tensorflow-intel==2.16.1->tensorflow) (4.9.0)\n",
      "Requirement already satisfied: wrapt>=1.11.0 in c:\\users\\shhwa\\miniconda3\\lib\\site-packages (from tensorflow-intel==2.16.1->tensorflow) (1.16.0)\n",
      "Requirement already satisfied: grpcio<2.0,>=1.24.3 in c:\\users\\shhwa\\miniconda3\\lib\\site-packages (from tensorflow-intel==2.16.1->tensorflow) (1.62.1)\n",
      "Requirement already satisfied: tensorboard<2.17,>=2.16 in c:\\users\\shhwa\\miniconda3\\lib\\site-packages (from tensorflow-intel==2.16.1->tensorflow) (2.16.2)\n",
      "Requirement already satisfied: keras>=3.0.0 in c:\\users\\shhwa\\miniconda3\\lib\\site-packages (from tensorflow-intel==2.16.1->tensorflow) (3.1.1)\n",
      "Requirement already satisfied: tensorflow-io-gcs-filesystem>=0.23.1 in c:\\users\\shhwa\\miniconda3\\lib\\site-packages (from tensorflow-intel==2.16.1->tensorflow) (0.31.0)\n",
      "Requirement already satisfied: numpy<2.0.0,>=1.23.5 in c:\\users\\shhwa\\miniconda3\\lib\\site-packages (from tensorflow-intel==2.16.1->tensorflow) (1.26.4)\n",
      "Requirement already satisfied: wheel<1.0,>=0.23.0 in c:\\users\\shhwa\\miniconda3\\lib\\site-packages (from astunparse>=1.6.0->tensorflow-intel==2.16.1->tensorflow) (0.42.0)\n",
      "Requirement already satisfied: rich in c:\\users\\shhwa\\miniconda3\\lib\\site-packages (from keras>=3.0.0->tensorflow-intel==2.16.1->tensorflow) (13.7.0)\n",
      "Requirement already satisfied: namex in c:\\users\\shhwa\\miniconda3\\lib\\site-packages (from keras>=3.0.0->tensorflow-intel==2.16.1->tensorflow) (0.0.7)\n",
      "Requirement already satisfied: optree in c:\\users\\shhwa\\miniconda3\\lib\\site-packages (from keras>=3.0.0->tensorflow-intel==2.16.1->tensorflow) (0.11.0)\n",
      "Requirement already satisfied: charset-normalizer<4,>=2 in c:\\users\\shhwa\\miniconda3\\lib\\site-packages (from requests<3,>=2.21.0->tensorflow-intel==2.16.1->tensorflow) (3.3.2)\n",
      "Requirement already satisfied: idna<4,>=2.5 in c:\\users\\shhwa\\miniconda3\\lib\\site-packages (from requests<3,>=2.21.0->tensorflow-intel==2.16.1->tensorflow) (3.6)\n",
      "Requirement already satisfied: urllib3<3,>=1.21.1 in c:\\users\\shhwa\\miniconda3\\lib\\site-packages (from requests<3,>=2.21.0->tensorflow-intel==2.16.1->tensorflow) (1.26.18)\n",
      "Requirement already satisfied: certifi>=2017.4.17 in c:\\users\\shhwa\\miniconda3\\lib\\site-packages (from requests<3,>=2.21.0->tensorflow-intel==2.16.1->tensorflow) (2024.2.2)\n",
      "Requirement already satisfied: markdown>=2.6.8 in c:\\users\\shhwa\\miniconda3\\lib\\site-packages (from tensorboard<2.17,>=2.16->tensorflow-intel==2.16.1->tensorflow) (3.6)\n",
      "Requirement already satisfied: tensorboard-data-server<0.8.0,>=0.7.0 in c:\\users\\shhwa\\miniconda3\\lib\\site-packages (from tensorboard<2.17,>=2.16->tensorflow-intel==2.16.1->tensorflow) (0.7.2)\n",
      "Requirement already satisfied: werkzeug>=1.0.1 in c:\\users\\shhwa\\miniconda3\\lib\\site-packages (from tensorboard<2.17,>=2.16->tensorflow-intel==2.16.1->tensorflow) (3.0.1)\n",
      "Requirement already satisfied: MarkupSafe>=2.1.1 in c:\\users\\shhwa\\miniconda3\\lib\\site-packages (from werkzeug>=1.0.1->tensorboard<2.17,>=2.16->tensorflow-intel==2.16.1->tensorflow) (2.1.4)\n",
      "Requirement already satisfied: markdown-it-py>=2.2.0 in c:\\users\\shhwa\\miniconda3\\lib\\site-packages (from rich->keras>=3.0.0->tensorflow-intel==2.16.1->tensorflow) (3.0.0)\n",
      "Requirement already satisfied: pygments<3.0.0,>=2.13.0 in c:\\users\\shhwa\\miniconda3\\lib\\site-packages (from rich->keras>=3.0.0->tensorflow-intel==2.16.1->tensorflow) (2.17.2)\n",
      "Requirement already satisfied: mdurl~=0.1 in c:\\users\\shhwa\\miniconda3\\lib\\site-packages (from markdown-it-py>=2.2.0->rich->keras>=3.0.0->tensorflow-intel==2.16.1->tensorflow) (0.1.2)\n",
      "Using cached tensorflow-2.16.1-cp310-cp310-win_amd64.whl (2.1 kB)\n",
      "Using cached tensorflow_intel-2.16.1-cp310-cp310-win_amd64.whl (376.9 MB)\n",
      "Installing collected packages: tensorflow-intel, tensorflow\n",
      "Successfully installed tensorflow-2.16.1 tensorflow-intel-2.16.1\n",
      "Note: you may need to restart the kernel to use updated packages.\n"
     ]
    }
   ],
   "source": [
    "pip install tensorflow"
   ]
  },
  {
   "cell_type": "markdown",
   "id": "2dd28d25-de89-4f58-9c6b-dd47061d95e9",
   "metadata": {},
   "source": [
    "<a id=\"sec2\"></a>\n",
    "## 2. Generating word embeddings\n",
    "\n",
    "We will use the `tensorflow` library that loads the Universal Sentence Encoder from Google. Running the cells below takes several seconds, this is why it's good to have a notebook that you keep open and running to avoid having to repeat these steps everytime."
   ]
  },
  {
   "cell_type": "code",
   "execution_count": 9,
   "id": "13c1b7aa-73e2-4b3c-b9a8-b04f75c89489",
   "metadata": {},
   "outputs": [
    {
     "name": "stdout",
     "output_type": "stream",
     "text": [
      "WARNING:tensorflow:From C:\\Users\\shhwa\\miniconda3\\lib\\site-packages\\tf_keras\\src\\losses.py:2976: The name tf.losses.sparse_softmax_cross_entropy is deprecated. Please use tf.compat.v1.losses.sparse_softmax_cross_entropy instead.\n",
      "\n"
     ]
    }
   ],
   "source": [
    "import tensorflow as tf\n",
    "import tensorflow_hub as hub\n",
    "import numpy as np"
   ]
  },
  {
   "cell_type": "code",
   "execution_count": 10,
   "id": "abd02bf8-f384-40e8-83dc-a0ed68975ba8",
   "metadata": {},
   "outputs": [
    {
     "name": "stdout",
     "output_type": "stream",
     "text": [
      "WARNING:tensorflow:From C:\\Users\\shhwa\\miniconda3\\lib\\site-packages\\tensorflow_hub\\resolver.py:120: The name tf.gfile.MakeDirs is deprecated. Please use tf.io.gfile.makedirs instead.\n",
      "\n"
     ]
    },
    {
     "name": "stderr",
     "output_type": "stream",
     "text": [
      "WARNING:tensorflow:From C:\\Users\\shhwa\\miniconda3\\lib\\site-packages\\tensorflow_hub\\resolver.py:120: The name tf.gfile.MakeDirs is deprecated. Please use tf.io.gfile.makedirs instead.\n",
      "\n"
     ]
    },
    {
     "name": "stdout",
     "output_type": "stream",
     "text": [
      "WARNING:tensorflow:From C:\\Users\\shhwa\\miniconda3\\lib\\site-packages\\tensorflow_hub\\module_v2.py:126: The name tf.saved_model.load_v2 is deprecated. Please use tf.compat.v2.saved_model.load instead.\n",
      "\n"
     ]
    },
    {
     "name": "stderr",
     "output_type": "stream",
     "text": [
      "WARNING:tensorflow:From C:\\Users\\shhwa\\miniconda3\\lib\\site-packages\\tensorflow_hub\\module_v2.py:126: The name tf.saved_model.load_v2 is deprecated. Please use tf.compat.v2.saved_model.load instead.\n",
      "\n"
     ]
    }
   ],
   "source": [
    "# Load the Universal Sentence Encoder's TF Hub module\n",
    "embed = hub.load(\"https://tfhub.dev/google/universal-sentence-encoder/4\")"
   ]
  },
  {
   "cell_type": "markdown",
   "id": "0317bba7-bb46-4214-b3f2-e2574131ea88",
   "metadata": {},
   "source": [
    "Let's see what `embed` is:"
   ]
  },
  {
   "cell_type": "code",
   "execution_count": 11,
   "id": "77205152-c887-43b7-a717-10dd72f27d76",
   "metadata": {},
   "outputs": [
    {
     "data": {
      "text/plain": [
       "tensorflow.python.saved_model.load.Loader._recreate_base_user_object.<locals>._UserObject"
      ]
     },
     "execution_count": 11,
     "metadata": {},
     "output_type": "execute_result"
    }
   ],
   "source": [
    "type(embed)"
   ]
  },
  {
   "cell_type": "markdown",
   "id": "2655b878-13fc-47be-ad5f-d585b7649d81",
   "metadata": {},
   "source": [
    "It seems like instance of a class that is loading a saved model for the user.\n",
    "\n",
    "We know that `embed` expects a list of words, thus, even if we want the embedding of one single word, we put it in a list:"
   ]
  },
  {
   "cell_type": "code",
   "execution_count": 12,
   "id": "33063607-2fe3-4193-84f1-0011ab8ce2fd",
   "metadata": {},
   "outputs": [
    {
     "data": {
      "text/plain": [
       "<tf.Tensor: shape=(1, 512), dtype=float32, numpy=\n",
       "array([[-0.04391915,  0.03201129,  0.01190969,  0.03629503, -0.00428856,\n",
       "        -0.04623363,  0.01953797, -0.0766146 , -0.04304643,  0.03870974,\n",
       "        -0.04847968, -0.05598784, -0.07318961, -0.01257856, -0.08900221,\n",
       "         0.03608384, -0.03099001, -0.03288193,  0.02245502, -0.07364369,\n",
       "        -0.04344708,  0.0152559 , -0.01991093, -0.00087352, -0.02389866,\n",
       "         0.08860014,  0.00602728, -0.04430724,  0.04500028, -0.01356369,\n",
       "        -0.04075947, -0.01871941, -0.01410532,  0.01902029, -0.07315565,\n",
       "         0.03898574, -0.05082058,  0.01163179,  0.01045336, -0.01495845,\n",
       "         0.05237336, -0.02879031, -0.06530189, -0.02734276,  0.00342715,\n",
       "         0.0791077 , -0.00500463,  0.00479222, -0.00226162, -0.03844385,\n",
       "        -0.0233555 , -0.00376975,  0.08060665,  0.07994739, -0.07976855,\n",
       "        -0.08015753,  0.05998329,  0.02709492,  0.07591494,  0.01611826,\n",
       "        -0.03375889, -0.02939119,  0.05382705,  0.05837568,  0.02365991,\n",
       "         0.05100413, -0.06117085, -0.04694653,  0.04115757,  0.03589628,\n",
       "        -0.08441079, -0.03011132, -0.05846398, -0.01875781,  0.01077734,\n",
       "        -0.06392523,  0.00401695,  0.08559538, -0.0090352 , -0.04465731,\n",
       "         0.01715602,  0.05140961, -0.07735583, -0.07782999, -0.03206474,\n",
       "         0.07085274, -0.06675339,  0.00175758,  0.06267901, -0.03477755,\n",
       "         0.0282786 , -0.00113125,  0.01398742,  0.07584985,  0.01799167,\n",
       "        -0.03253372,  0.01601135, -0.04895303, -0.01937764,  0.03310715,\n",
       "         0.06199145, -0.04858329, -0.03198358, -0.08049706,  0.05627645,\n",
       "        -0.06411111, -0.01100216, -0.00556093, -0.03695475,  0.06358634,\n",
       "         0.04745827,  0.00398519, -0.01763892,  0.02664304, -0.00692301,\n",
       "         0.01172067,  0.00306164, -0.00730918,  0.06018967,  0.00048549,\n",
       "        -0.07158718, -0.08368502, -0.006048  ,  0.03462586, -0.04297211,\n",
       "         0.07582823,  0.01956605, -0.05738991, -0.02027086, -0.00017044,\n",
       "        -0.06116412,  0.07722659,  0.07893453,  0.04476102,  0.0260937 ,\n",
       "         0.04317089,  0.0431113 , -0.03858432, -0.00360972, -0.01832555,\n",
       "        -0.05903053, -0.05191151,  0.05265235, -0.06787777, -0.04987863,\n",
       "        -0.04582141,  0.01026256, -0.02073083, -0.00571702, -0.08787715,\n",
       "        -0.04451662,  0.03900943, -0.06195761,  0.06508893, -0.048003  ,\n",
       "        -0.03689306, -0.06984162, -0.07656714,  0.02946996, -0.04919348,\n",
       "         0.01169812,  0.00932664, -0.06383104,  0.02116259, -0.05287199,\n",
       "         0.00773775, -0.05449139,  0.06637747, -0.00289261,  0.01604714,\n",
       "         0.01302752, -0.00246806, -0.00539526,  0.05304953, -0.07298886,\n",
       "         0.06125432,  0.04192385, -0.03472365,  0.03756179, -0.01218882,\n",
       "         0.0102908 ,  0.02111715,  0.03444862,  0.07595845,  0.03786047,\n",
       "        -0.08619914, -0.05968377, -0.0247726 ,  0.03965545,  0.00020003,\n",
       "        -0.03867126,  0.00585819,  0.06694733,  0.01585641, -0.02914743,\n",
       "        -0.07633951,  0.03867117, -0.03050992, -0.01204502, -0.04410138,\n",
       "        -0.01490489,  0.02709725,  0.08546873, -0.01945648, -0.05372971,\n",
       "        -0.00454365, -0.00051229,  0.00233282, -0.01387237,  0.02950734,\n",
       "        -0.07646758,  0.02868281,  0.00419669, -0.03460619, -0.00222005,\n",
       "         0.024038  , -0.04661335, -0.03913402,  0.02800952,  0.03342445,\n",
       "         0.02657786,  0.01888489, -0.01560867,  0.01108895,  0.00650692,\n",
       "        -0.07425503,  0.01594727,  0.03189633,  0.04558128,  0.02200575,\n",
       "        -0.02031619, -0.05391648,  0.01752972,  0.08819562,  0.01047272,\n",
       "         0.05633177,  0.06233584, -0.03211071, -0.07344997,  0.00193289,\n",
       "         0.03172629,  0.08727103,  0.01944812,  0.04612582,  0.02816418,\n",
       "         0.01102464,  0.04082269,  0.04240961, -0.02757793,  0.00428099,\n",
       "        -0.07045942, -0.02650406, -0.08893927,  0.06352627, -0.00352301,\n",
       "         0.04850166,  0.00092635, -0.02464013, -0.08303951, -0.05171134,\n",
       "        -0.03916218, -0.02332119,  0.05532192,  0.02512824,  0.05749191,\n",
       "        -0.03335015, -0.00883708,  0.05669091,  0.02540467,  0.06490765,\n",
       "         0.01755289, -0.03400439, -0.00070713, -0.03066151, -0.00152353,\n",
       "        -0.02119866, -0.06408469,  0.02317664,  0.06505804,  0.07198008,\n",
       "         0.0392109 ,  0.04193092,  0.0023056 , -0.03617762,  0.05731983,\n",
       "        -0.02051384,  0.03153248, -0.01864693,  0.00817302,  0.00579673,\n",
       "         0.05050894, -0.0220888 ,  0.0885962 ,  0.03404752,  0.02507684,\n",
       "         0.03943738,  0.02706955,  0.0079135 , -0.00171417,  0.06399409,\n",
       "         0.01499377, -0.08776125, -0.04199326, -0.03370078, -0.06074306,\n",
       "         0.03213428,  0.02717566,  0.00213996, -0.06334654, -0.02023195,\n",
       "         0.01629034, -0.00092261,  0.00824902,  0.01577867, -0.04278888,\n",
       "        -0.04869695,  0.04034987, -0.02546565, -0.01175199, -0.000486  ,\n",
       "        -0.02806012, -0.01173204, -0.04622828,  0.08773573, -0.01743197,\n",
       "        -0.04271529, -0.03811971,  0.03642946,  0.00211869,  0.04831001,\n",
       "         0.02836962,  0.04364008, -0.04257252, -0.00154339,  0.0428813 ,\n",
       "        -0.0815532 , -0.03537533,  0.05726537,  0.01956839,  0.01228189,\n",
       "        -0.03880942,  0.02262402,  0.04629249, -0.01213393, -0.00692891,\n",
       "        -0.0595907 ,  0.02001723, -0.05657123,  0.03050379,  0.00799741,\n",
       "         0.0505376 ,  0.00853809, -0.01061044, -0.07865335, -0.05624803,\n",
       "        -0.05606462, -0.08389009,  0.03334735,  0.0054817 , -0.00065621,\n",
       "         0.03902402, -0.04998428,  0.08082012, -0.01402537, -0.00801524,\n",
       "         0.01369515,  0.07176805,  0.00322598,  0.07009997,  0.03162312,\n",
       "        -0.08137205, -0.06851251,  0.0591193 , -0.02741773, -0.07372664,\n",
       "        -0.03053194, -0.01363893,  0.0428145 , -0.01815227,  0.00625352,\n",
       "         0.03977711, -0.05909355, -0.03699098,  0.06277776, -0.04091011,\n",
       "         0.04296122, -0.03289925, -0.07273811, -0.01455483,  0.00859373,\n",
       "        -0.02045462, -0.08864871,  0.00880373,  0.0123724 , -0.0660616 ,\n",
       "        -0.07324865, -0.03444458,  0.00780706, -0.05084099,  0.00583717,\n",
       "         0.03629398,  0.08892625, -0.04942536,  0.02623334, -0.02582997,\n",
       "        -0.05967073,  0.03868425,  0.00806731, -0.04186405, -0.04152245,\n",
       "        -0.03159933, -0.00209663,  0.01536576,  0.04043112, -0.08534021,\n",
       "         0.01086838,  0.05972986,  0.03528926,  0.00511724,  0.03179444,\n",
       "        -0.00602135,  0.02096484, -0.03941332, -0.01415872,  0.05658235,\n",
       "         0.04269019, -0.01623844,  0.0642145 ,  0.04676111,  0.05437633,\n",
       "        -0.01503801, -0.02473365,  0.01765623, -0.02634689,  0.08255323,\n",
       "        -0.027941  , -0.02262073,  0.00205413, -0.02838217,  0.03086211,\n",
       "        -0.01681356, -0.00254838,  0.05847722,  0.00701795, -0.00430047,\n",
       "         0.00849526,  0.02374606, -0.061897  ,  0.06073491,  0.03382768,\n",
       "         0.06218818, -0.08374078, -0.02829606, -0.05557872, -0.01160216,\n",
       "         0.03266247,  0.04783056, -0.05582919, -0.02840458,  0.05267305,\n",
       "         0.01060976,  0.04075466, -0.02016916,  0.06635582,  0.00742542,\n",
       "        -0.04915589, -0.07929007,  0.05002552,  0.02042783,  0.06928927,\n",
       "         0.02649399, -0.00151973,  0.0681901 ,  0.02943929,  0.03870548,\n",
       "         0.01986226, -0.06175928,  0.08548003,  0.03404281,  0.0348122 ,\n",
       "        -0.06544839, -0.06740937,  0.02023058,  0.02049205,  0.00170003,\n",
       "         0.03384818, -0.04467831, -0.08114871, -0.04905274,  0.0772535 ,\n",
       "        -0.02669826, -0.01099811,  0.03947102,  0.00598235,  0.03606438,\n",
       "        -0.0233374 ,  0.06101305, -0.06487118, -0.01098053,  0.03963406,\n",
       "         0.02665096,  0.02733457,  0.01442909, -0.08744736,  0.03815879,\n",
       "        -0.0175275 , -0.04362553,  0.01380075, -0.07805207, -0.00882782,\n",
       "        -0.03927765, -0.05178541]], dtype=float32)>"
      ]
     },
     "execution_count": 12,
     "metadata": {},
     "output_type": "execute_result"
    }
   ],
   "source": [
    "# get the word embedding of a single word\n",
    "embed([\"apple\"])"
   ]
  },
  {
   "cell_type": "markdown",
   "id": "1761e9eb-7a8b-448e-ad6e-c4c3bbcb88e4",
   "metadata": {},
   "source": [
    "From the result, we can see that we got a tensor of shape 1x512, meaning a single row with 512 columns (the dimensions for the word representation). A tensor is a mathematical term for a multi-dimensional array."
   ]
  },
  {
   "cell_type": "markdown",
   "id": "700d916a-434f-4387-9aa0-105c731a3876",
   "metadata": {},
   "source": [
    "Let's get the embeddings for a few pairs of words that we know are similar:"
   ]
  },
  {
   "cell_type": "code",
   "execution_count": 13,
   "id": "18e24667-0b6c-4df3-b84a-5303947c7d23",
   "metadata": {},
   "outputs": [
    {
     "data": {
      "text/plain": [
       "TensorShape([10, 512])"
      ]
     },
     "execution_count": 13,
     "metadata": {},
     "output_type": "execute_result"
    }
   ],
   "source": [
    "words = ['king', 'queen', 'radio', 'TV', 'bike', 'car', 'Boston', 'London', 'lake', 'river']\n",
    "\n",
    "embeddings = embed(words)\n",
    "embeddings.shape"
   ]
  },
  {
   "cell_type": "markdown",
   "id": "049cf657-ebcb-4eb4-b9c6-23bcd27f0b5b",
   "metadata": {},
   "source": [
    "As we can see, we got one embedding for each word as a vector of 512 dimensions. We will calculate the cosine similarity between these words:"
   ]
  },
  {
   "cell_type": "code",
   "execution_count": 14,
   "id": "86dc9362-9d1b-4e8e-9b5b-38b072166286",
   "metadata": {},
   "outputs": [],
   "source": [
    "from numpy.linalg import norm\n",
    "\n",
    "def cosineSimilarity(vec1, vec2):\n",
    "    \"\"\"Calculate the cosine similarity between two vectors.\"\"\"\n",
    "    V1 = np.array(vec1)\n",
    "    V2 = np.array(vec2)\n",
    "    cosine = np.dot(V1, V2)/(norm(V1)*norm(V2))\n",
    "    return cosine"
   ]
  },
  {
   "cell_type": "markdown",
   "id": "5d4cd67d-1457-4394-a8ec-8e40fe2bd00a",
   "metadata": {},
   "source": [
    "Now that we have this function, we will call it to calculate the similarity between all pairs of words, as part of a new function:"
   ]
  },
  {
   "cell_type": "code",
   "execution_count": 15,
   "id": "f8337354-1f4d-4234-bf1c-574d4d3a6ca1",
   "metadata": {},
   "outputs": [
    {
     "name": "stdout",
     "output_type": "stream",
     "text": [
      "[[1.0000001, 0.5885694, 0.2017837, 0.23791909, 0.28454646, 0.30579722, 0.31222966, 0.3519483, 0.21853514, 0.31289002], [0.5885694, 1.0, 0.23228015, 0.21706419, 0.23037915, 0.23948051, 0.231801, 0.27207553, 0.15932225, 0.22088571], [0.2017837, 0.23228015, 1.0, 0.45328128, 0.28366214, 0.45171037, 0.26606655, 0.3423876, 0.2682847, 0.31200102], [0.23791909, 0.21706419, 0.45328128, 1.0, 0.3116594, 0.43531656, 0.24773496, 0.23908725, 0.2231448, 0.33228466], [0.28454646, 0.23037915, 0.28366214, 0.3116594, 1.0, 0.5698406, 0.29134262, 0.33670282, 0.29050553, 0.3785724], [0.30579722, 0.23948051, 0.45171037, 0.43531656, 0.5698406, 1.0, 0.3312364, 0.3456377, 0.2708657, 0.35168734], [0.31222966, 0.231801, 0.26606655, 0.24773496, 0.29134262, 0.3312364, 1.0000001, 0.49752566, 0.29060295, 0.26489952], [0.3519483, 0.27207553, 0.3423876, 0.23908725, 0.33670282, 0.3456377, 0.49752566, 1.0, 0.23277904, 0.32204518], [0.21853514, 0.15932225, 0.2682847, 0.2231448, 0.29050553, 0.2708657, 0.29060295, 0.23277904, 1.0, 0.4717121], [0.31289002, 0.22088571, 0.31200102, 0.33228466, 0.3785724, 0.35168734, 0.26489952, 0.32204518, 0.4717121, 1.0000001]]\n"
     ]
    }
   ],
   "source": [
    "def pairwiseSimilarity(embeddings):\n",
    "    \"\"\"Given a matrix of embeddings for words or sentences,\n",
    "    calculate the cosine similarity for each pair.\n",
    "    \"\"\"\n",
    "    simMatrix = []\n",
    "    for vec1 in embeddings:\n",
    "        simRow = []\n",
    "        for vec2 in embeddings:\n",
    "            simRow.append(cosineSimilarity(vec1, vec2))\n",
    "        simMatrix.append(simRow)\n",
    "    return simMatrix\n",
    "    \n",
    "simMatrix = pairwiseSimilarity(embeddings)\n",
    "print(simMatrix)"
   ]
  },
  {
   "cell_type": "markdown",
   "id": "22b529cb-4be6-48de-be1f-aa8deca6e0a8",
   "metadata": {},
   "source": [
    "Let's generate a heatmap to see the similarity between the pairs of words:"
   ]
  },
  {
   "cell_type": "code",
   "execution_count": 16,
   "id": "d413dcbc-5994-4edd-a35a-180536a2cfcd",
   "metadata": {},
   "outputs": [],
   "source": [
    "import seaborn as sns\n",
    "import matplotlib.pyplot as plt\n",
    "\n",
    "def drawHeatmap(labels, simMtrx, plotTitle):\n",
    "    \"\"\"Draws a heatmap for the similarity matrix.\n",
    "    \"\"\"\n",
    "    sns.set(font_scale=0.9)\n",
    "    g = sns.heatmap(\n",
    "          simMtrx, # similarity matrix with the cosine sim values\n",
    "          xticklabels=labels,\n",
    "          yticklabels=labels,\n",
    "          vmin=0,\n",
    "          vmax=1,\n",
    "          cmap=\"YlOrRd\")\n",
    "    g.set_xticklabels(labels, rotation=90)\n",
    "    g.set_title(plotTitle, fontsize=14)\n",
    "    plt.show()"
   ]
  },
  {
   "cell_type": "code",
   "execution_count": 17,
   "id": "1c8bf97a-ef82-468e-8c42-2d984a24b4f7",
   "metadata": {},
   "outputs": [
    {
     "data": {
      "image/png": "[encoded data removed]",
      "text/plain": [
       "<Figure size 640x480 with 2 Axes>"
      ]
     },
     "metadata": {},
     "output_type": "display_data"
    }
   ],
   "source": [
    "drawHeatmap(words, simMatrix, \"Similarity for Word Embeddings\")"
   ]
  },
  {
   "cell_type": "markdown",
   "id": "42f6d950-ba9f-47a8-8225-87e1d49ecbe1",
   "metadata": {},
   "source": [
    "**Optional Challenge: Find most similar words**\n",
    "\n",
    "While the heat map gives us some information, is hard to see the most simlar words. We can write a Python function to find the most similar pairs. I wrote one that I can call like this:\n",
    "\n",
    "`findUniqueTopPairs(simMatrix, words)[:10]`\n",
    "\n",
    "And the results are the following:\n",
    "```\n",
    "[(0.58856946, 'king', 'queen'),\n",
    " (0.56984055, 'bike', 'car'),\n",
    " (0.49752563, 'Boston', 'London'),\n",
    " (0.471712, 'lake', 'river'),\n",
    " (0.45328128, 'TV', 'radio'),\n",
    " (0.45171037, 'car', 'radio'),\n",
    " (0.43531647, 'TV', 'car'),\n",
    " (0.3785724, 'bike', 'river'),\n",
    " (0.3519483, 'London', 'king'),\n",
    " (0.35168734, 'car', 'river')]\n",
    "```\n",
    "\n",
    "Notice how our original 5 pairs are at the top, and pairs like 'car' and 'radio' are still related. One can also understand the relationshp between 'London' and 'king' (based on the history of the many kings who lived in London, although for the past 70 years there was a queen in the palace). Anyway, we can see how the similarity is going down."
   ]
  },
  {
   "cell_type": "code",
   "execution_count": null,
   "id": "086377d4-d2f8-42ee-b272-31e563385714",
   "metadata": {},
   "outputs": [],
   "source": [
    "# your code"
   ]
  },
  {
   "cell_type": "code",
   "execution_count": null,
   "id": "d98e9813-8631-499a-908a-7dcc42d9eea3",
   "metadata": {},
   "outputs": [],
   "source": []
  },
  {
   "cell_type": "markdown",
   "id": "2aab7697-d611-4795-88eb-eeadd4f0294f",
   "metadata": {},
   "source": [
    "<a id=\"sec3\"></a>\n",
    "## 3. K-means clustering with word embeddings\n",
    "\n",
    "In lecture we showed the clustering for the TikTok hashtags collected from posts, but for connecting this section to the t-SNE visualization section below, we will show here the clustering for our own list of news hashtags."
   ]
  },
  {
   "cell_type": "code",
   "execution_count": 18,
   "id": "7e67740a-4061-4100-a7dd-872b7a23fa8b",
   "metadata": {},
   "outputs": [
    {
     "data": {
      "text/plain": [
       "['economy',\n",
       " 'constitution',\n",
       " 'breakingnews',\n",
       " 'noticias',\n",
       " 'scotus',\n",
       " 'mediawatch',\n",
       " 'historytok',\n",
       " 'liberal',\n",
       " 'crime',\n",
       " 'conservative']"
      ]
     },
     "execution_count": 18,
     "metadata": {},
     "output_type": "execute_result"
    }
   ],
   "source": [
    "# get the news hashtags\n",
    "import json\n",
    "news = json.load(open('news-hashtags.json'))\n",
    "news[:10]"
   ]
  },
  {
   "cell_type": "markdown",
   "id": "508e8d39-318a-4c8d-aaf8-efaaa479c28d",
   "metadata": {},
   "source": [
    "**Step 1: Get the word embeddings**"
   ]
  },
  {
   "cell_type": "code",
   "execution_count": 19,
   "id": "3b27a2d6-5999-4fe3-9efe-3eb3bdccf1d4",
   "metadata": {},
   "outputs": [
    {
     "data": {
      "text/plain": [
       "TensorShape([129, 512])"
      ]
     },
     "execution_count": 19,
     "metadata": {},
     "output_type": "execute_result"
    }
   ],
   "source": [
    "# remember that we loaded the model in the prior section\n",
    "newsEmbed = embed(news)\n",
    "newsEmbed.shape"
   ]
  },
  {
   "cell_type": "markdown",
   "id": "9da04f34-32e6-4cb6-9861-f5deec14d99b",
   "metadata": {},
   "source": [
    "**Step 2: Perform clustering with a fixed k value**\n",
    "\n",
    "For this time, we will perform clustering with k=15. The code will take a few seconds (or more) to run:"
   ]
  },
  {
   "cell_type": "code",
   "execution_count": 20,
   "id": "e00d57f6-be4d-49f1-a224-e15de04cc4b4",
   "metadata": {},
   "outputs": [],
   "source": [
    "from sklearn.cluster import KMeans\n",
    "\n",
    "k = 15 # number of clusters\n",
    "kmeans = KMeans(n_clusters=k, random_state=42)\n",
    "clusters = kmeans.fit_predict(newsEmbed)"
   ]
  },
  {
   "cell_type": "markdown",
   "id": "a737b1ba-2193-489b-9c49-d5b2e99f020a",
   "metadata": {},
   "source": [
    "Let's see what the results look like:"
   ]
  },
  {
   "cell_type": "code",
   "execution_count": 21,
   "id": "6f413849-ddef-46f8-8394-a7577a86d376",
   "metadata": {},
   "outputs": [
    {
     "data": {
      "text/plain": [
       "array([12, 11,  3, 10, 11, 10,  1,  6, 12,  6])"
      ]
     },
     "execution_count": 21,
     "metadata": {},
     "output_type": "execute_result"
    }
   ],
   "source": [
    "clusters[:10]"
   ]
  },
  {
   "cell_type": "markdown",
   "id": "73337644-2a34-4901-81bf-dd2e27d6aca1",
   "metadata": {},
   "source": [
    "They are indices of the clusters. For each elemenent in our `news` list, the `clusters` array indicates in which of the 15 clusters the item has been assigned. We can then use this information to find out which words are in which cluster."
   ]
  },
  {
   "cell_type": "markdown",
   "id": "040a0fad-6fd1-4744-bd28-63f6020f2737",
   "metadata": {},
   "source": [
    "We will print out the composition of each cluster:"
   ]
  },
  {
   "cell_type": "code",
   "execution_count": 22,
   "id": "4d9d3343-9151-46e5-95d3-c1e081279cc1",
   "metadata": {},
   "outputs": [
    {
     "name": "stdout",
     "output_type": "stream",
     "text": [
      "Cluster 0:\n",
      "['michigan']\n",
      "Cluster 1:\n",
      "['historytok', 'topstories', 'inflation', 'uselections', 'politicaltiktok', 'usaelections', 'newsattiktok', 'uspolitics', 'stateoftheunion', '2024debate', 'noticiastiktok', '2024breakingnews']\n",
      "Cluster 2:\n",
      "['viralnews', '2024president', 'technews', 'newstiktok', 'trumptrial', 'learnontiktok', 'supertuesday', 'новости', 'trump2024', 'climategoals', 'governmentshutdown', 'trumprally', 'currentnews', 'noticiasen1minuto', 'breakingnewsalert', 'citizentvkenya']\n",
      "Cluster 3:\n",
      "['breakingnews', 'militarynews ', 'currentevents', 'supremecourt', 'covid', 'internationalnews ', 'unitednations', 'joebiden', 'breaking', 'FederalReserve', 'newsafrica', 'goodnews', '参議院', 'bordercrisis', 'tiktokでニュース', 'crimetok', 'أخبار', '新闻', 'trendingnews', 'chinesepolitics', 'uknews', 'aktualności', 'reproductiverights', 'localnews', 'elections2022🇰🇪']\n",
      "Cluster 4:\n",
      "['quicknews', 'kenyanews', 'healthnews', 'election2024', 'nbcnews', 'NewsTok', 'houseofrepresentatives', 'PoliticalCommentary', 'cnbc']\n",
      "Cluster 5:\n",
      "['netanyahu', 'gaza', 'ceasefire', 'israel', 'worldnews', 'palestine', 'hamas']\n",
      "Cluster 6:\n",
      "['liberal', 'conservative', 'republicans', 'republican', 'democrat', 'foxnews', 'liberalism', 'ballot', 'msnbc', 'democrats', 'biden']\n",
      "Cluster 7:\n",
      "['usnews']\n",
      "Cluster 8:\n",
      "['russia', 'putin', 'ukraine', 'nato']\n",
      "Cluster 9:\n",
      "['azimio', 'townhall', '2024election', 'geonews', 'yahoonews', 'thedemocrats', 'oregonnews']\n",
      "Cluster 10:\n",
      "['noticias', 'mediawatch', 'abcnews', 'berita', 'vote', 'fashionnews', 'climatechange', 'usapolitics', 'newsupdate', 'breakingnews2024', 'newsalert', 'liveupdates']\n",
      "Cluster 11:\n",
      "['constitution', 'scotus']\n",
      "Cluster 12:\n",
      "['economy', 'crime', 'journalism', 'trump', 'abortion', 'blacklivesmatter', 'election', 'politics', 'congress', 'climate', 'unemployment', 'economics', 'immigration', 'news']\n",
      "Cluster 13:\n",
      "['rightwing', 'cnn', 'protests', 'fake news', 'newsweek', 'leftist']\n",
      "Cluster 14:\n",
      "['vaccines', 'pandemic']\n"
     ]
    }
   ],
   "source": [
    "for i in range(k):\n",
    "    print(f\"Cluster {i}:\")\n",
    "    cluster_words = [news[j] for j in range(len(news)) if clusters[j] == i]\n",
    "    print(cluster_words)"
   ]
  },
  {
   "cell_type": "markdown",
   "id": "66f283a3-bb5c-4cc9-8fdf-6cce66fc2fc4",
   "metadata": {},
   "source": [
    "As we discussed when we looked at the t-SNE visualization in class, some groups of words are really meaningful, for example, Cluster 5, Cluster 6, Cluster 8."
   ]
  },
  {
   "cell_type": "markdown",
   "id": "ed1d0461-69f6-42e1-bc3d-012392953006",
   "metadata": {},
   "source": [
    "<a id=\"sec4\"></a>\n",
    "## 4. Using the Elbow method to find the best k\n",
    "\n",
    "We discussed that having to pick k is a limitation of K-means clustering. Below, we show one method known as the Elbow method to try to pick the best k. If you want to learn about the method, here is [a short 4-minute video](https://www.youtube.com/watch?v=ht7geyMAFfA) to explain it. It is called the Elbow method because k is selected at the lowest point that marks something that looks like an elbow. This is the point where the sum of squared distances from the cluster centroid stops decreasing rapidly and enters a phase of a constant-paced decline, toward 0. This sum of squared distances of all points from the cluster centroid is known as inertia. "
   ]
  },
  {
   "cell_type": "code",
   "execution_count": 23,
   "id": "8f73271b-7338-4940-90eb-8cbd93323dba",
   "metadata": {},
   "outputs": [],
   "source": [
    "def elbowMethod(embeddings, maxK):\n",
    "    \"\"\"\n",
    "    Implements the Elbow method for finding most optimal k.\n",
    "    It keeps track of a measure named \"inertia\" for each cluster.\n",
    "    \"\"\"\n",
    "    sumSquaredDistances = []\n",
    "    kValues = list(range(1, maxK))\n",
    "    for k in kValues:\n",
    "        km = KMeans(n_clusters=k, random_state=42)\n",
    "        km = km.fit(embeddings)\n",
    "        sumSquaredDistances.append(km.inertia_)\n",
    "    \n",
    "    # plot the line to identify the elbow\n",
    "    plt.plot(kValues, sumSquaredDistances, 'ro-')\n",
    "    plt.xlabel('k')\n",
    "    plt.xticks(kValues)\n",
    "    plt.ylabel('Sum of squared distances')\n",
    "    plt.title('Elbow Method For Optimal k')\n",
    "    plt.show()"
   ]
  },
  {
   "cell_type": "markdown",
   "id": "5c75975e-3c67-4bff-8d51-bc6e49c01ac3",
   "metadata": {},
   "source": [
    "Let's try below 20 values for k:"
   ]
  },
  {
   "cell_type": "code",
   "execution_count": 24,
   "id": "a63e8fcc-d4db-41e2-bd3f-4da0e0d04b87",
   "metadata": {},
   "outputs": [
    {
     "data": {
      "image/png": "[encoded data removed]",
      "text/plain": [
       "<Figure size 640x480 with 1 Axes>"
      ]
     },
     "metadata": {},
     "output_type": "display_data"
    }
   ],
   "source": [
    "elbowMethod(newsEmbed, 20)"
   ]
  },
  {
   "cell_type": "markdown",
   "id": "65a3ffeb-336c-40eb-9004-a9746595830f",
   "metadata": {},
   "source": [
    "In this plot, inertia stops rapidly decreasing at the k=3 and enters a phase of steady decline. So we will pick k=3."
   ]
  },
  {
   "cell_type": "code",
   "execution_count": 25,
   "id": "250b738d-e873-4f5e-8bf7-5b22df792c99",
   "metadata": {},
   "outputs": [
    {
     "data": {
      "text/plain": [
       "array([2, 0, 1, 2, 0, 2, 2, 0, 2, 0])"
      ]
     },
     "execution_count": 25,
     "metadata": {},
     "output_type": "execute_result"
    }
   ],
   "source": [
    "k = 3\n",
    "kmeans = KMeans(n_clusters=k, random_state=42)\n",
    "clusters = kmeans.fit_predict(newsEmbed)\n",
    "\n",
    "clusters[:10]"
   ]
  },
  {
   "cell_type": "markdown",
   "id": "fb4416b3-880e-4c60-8c54-5264078866ea",
   "metadata": {},
   "source": [
    "Notices the indices of the clusters: 0, 1, 2. We can check quickly how many items are in each cluster:"
   ]
  },
  {
   "cell_type": "code",
   "execution_count": 26,
   "id": "04bc1ac9-c2a0-4bea-9ef9-52856510e1b6",
   "metadata": {},
   "outputs": [
    {
     "data": {
      "text/plain": [
       "Counter({1: 50, 0: 40, 2: 39})"
      ]
     },
     "execution_count": 26,
     "metadata": {},
     "output_type": "execute_result"
    }
   ],
   "source": [
    "from collections import Counter\n",
    "Counter(clusters)"
   ]
  },
  {
   "cell_type": "markdown",
   "id": "6f84f73d-0805-4706-aedc-21e1099b9b8d",
   "metadata": {},
   "source": [
    "So, it looks like the clusters have roughly the same size: 0 and 2 have about 40 items and cluster 1 has 50 items. Let's visualize the clusters using t-SNE."
   ]
  },
  {
   "cell_type": "markdown",
   "id": "ade6402d-25e9-4959-9db9-3c025fd7dc15",
   "metadata": {},
   "source": [
    "<a id=\"sec5\"></a>\n",
    "## 5. t-SNE visualization\n",
    "\n",
    "To create the t-SNE visualization, we need a few steps to prepare the data first. We work directly with the embeddings and then use the cluster membership as a column that will allow us to color the dots in the scatterplot."
   ]
  },
  {
   "cell_type": "markdown",
   "id": "0b9a5c21-8759-4fc9-8072-b2634209abfa",
   "metadata": {},
   "source": [
    "**Step 1: Run the TSNE algorithm**"
   ]
  },
  {
   "cell_type": "code",
   "execution_count": 27,
   "id": "3bab1c9d-abcb-4a25-9eef-7d07f28fbcae",
   "metadata": {},
   "outputs": [],
   "source": [
    "from sklearn.manifold import TSNE\n",
    "\n",
    "tsne = TSNE(n_components=2, random_state=42)  \n",
    "tsne_results = tsne.fit_transform(newsEmbed)"
   ]
  },
  {
   "cell_type": "markdown",
   "id": "ebf7526c-d9b6-4b26-9cd7-bde75d5b4247",
   "metadata": {},
   "source": [
    "**Step 2: Create a dataframe**"
   ]
  },
  {
   "cell_type": "code",
   "execution_count": 28,
   "id": "f028c41c-bd4f-474b-9e6b-d2201e3e72e5",
   "metadata": {},
   "outputs": [
    {
     "data": {
      "text/html": [
       "<div>\n",
       "<style scoped>\n",
       "    .dataframe tbody tr th:only-of-type {\n",
       "        vertical-align: middle;\n",
       "    }\n",
       "\n",
       "    .dataframe tbody tr th {\n",
       "        vertical-align: top;\n",
       "    }\n",
       "\n",
       "    .dataframe thead th {\n",
       "        text-align: right;\n",
       "    }\n",
       "</style>\n",
       "<table border=\"1\" class=\"dataframe\">\n",
       "  <thead>\n",
       "    <tr style=\"text-align: right;\">\n",
       "      <th></th>\n",
       "      <th>tsne_1</th>\n",
       "      <th>tsne_2</th>\n",
       "      <th>hashtag</th>\n",
       "      <th>cluster</th>\n",
       "    </tr>\n",
       "  </thead>\n",
       "  <tbody>\n",
       "    <tr>\n",
       "      <th>0</th>\n",
       "      <td>-0.750430</td>\n",
       "      <td>4.298874</td>\n",
       "      <td>economy</td>\n",
       "      <td>2</td>\n",
       "    </tr>\n",
       "    <tr>\n",
       "      <th>1</th>\n",
       "      <td>-3.414515</td>\n",
       "      <td>2.259306</td>\n",
       "      <td>constitution</td>\n",
       "      <td>0</td>\n",
       "    </tr>\n",
       "    <tr>\n",
       "      <th>2</th>\n",
       "      <td>3.524377</td>\n",
       "      <td>-2.858068</td>\n",
       "      <td>breakingnews</td>\n",
       "      <td>1</td>\n",
       "    </tr>\n",
       "    <tr>\n",
       "      <th>3</th>\n",
       "      <td>-3.499802</td>\n",
       "      <td>-2.600222</td>\n",
       "      <td>noticias</td>\n",
       "      <td>2</td>\n",
       "    </tr>\n",
       "    <tr>\n",
       "      <th>4</th>\n",
       "      <td>-3.879635</td>\n",
       "      <td>2.588492</td>\n",
       "      <td>scotus</td>\n",
       "      <td>0</td>\n",
       "    </tr>\n",
       "  </tbody>\n",
       "</table>\n",
       "</div>"
      ],
      "text/plain": [
       "     tsne_1    tsne_2       hashtag  cluster\n",
       "0 -0.750430  4.298874       economy        2\n",
       "1 -3.414515  2.259306  constitution        0\n",
       "2  3.524377 -2.858068  breakingnews        1\n",
       "3 -3.499802 -2.600222      noticias        2\n",
       "4 -3.879635  2.588492        scotus        0"
      ]
     },
     "execution_count": 28,
     "metadata": {},
     "output_type": "execute_result"
    }
   ],
   "source": [
    "import pandas as pd\n",
    "\n",
    "df = pd.DataFrame(tsne_results, columns=['tsne_1', 'tsne_2'])\n",
    "df['hashtag'] = news  \n",
    "df['cluster'] = clusters # the cluster indices where each news hashtags belong\n",
    "df.head()"
   ]
  },
  {
   "cell_type": "markdown",
   "id": "6b39a0cb-f63f-4093-80b7-fe84ca52945e",
   "metadata": {},
   "source": [
    "**Step 3: Generate Plotly visualization**"
   ]
  },
  {
   "cell_type": "code",
   "execution_count": 30,
   "id": "fdca5f2b-543a-4227-a8ee-b1969ef63f6b",
   "metadata": {},
   "outputs": [
    {
     "data": {
      "application/vnd.plotly.v1+json": {
       "config": {
        "plotlyServerURL": "https://plot.ly"
       },
       "data": [
        {
         "hovertemplate": "tsne_1=%{x}<br>tsne_2=%{y}<br>hashtag=%{text}<br>cluster=%{marker.color}<extra></extra>",
         "legendgroup": "",
         "marker": {
          "color": [
           2,
           0,
           1,
           2,
           0,
           2,
           2,
           0,
           2,
           0,
           1,
           0,
           0,
           0,
           2,
           0,
           0,
           2,
           1,
           0,
           0,
           2,
           0,
           1,
           2,
           1,
           1,
           0,
           2,
           0,
           2,
           2,
           0,
           2,
           2,
           0,
           1,
           2,
           1,
           1,
           2,
           2,
           2,
           0,
           1,
           0,
           1,
           0,
           0,
           2,
           1,
           1,
           1,
           1,
           0,
           0,
           1,
           0,
           1,
           0,
           0,
           0,
           1,
           0,
           1,
           0,
           1,
           2,
           1,
           1,
           0,
           2,
           1,
           1,
           0,
           2,
           1,
           2,
           1,
           1,
           2,
           2,
           1,
           2,
           0,
           0,
           1,
           1,
           2,
           1,
           1,
           0,
           2,
           0,
           2,
           2,
           0,
           2,
           0,
           1,
           1,
           0,
           0,
           0,
           1,
           1,
           2,
           1,
           1,
           1,
           1,
           1,
           2,
           1,
           1,
           2,
           1,
           1,
           1,
           2,
           2,
           1,
           1,
           1,
           2,
           2,
           1,
           0,
           2
          ],
          "coloraxis": "coloraxis",
          "symbol": "circle"
         },
         "mode": "markers+text",
         "name": "",
         "orientation": "v",
         "showlegend": false,
         "text": [
          "economy",
          "constitution",
          "breakingnews",
          "noticias",
          "scotus",
          "mediawatch",
          "historytok",
          "liberal",
          "crime",
          "conservative",
          "militarynews ",
          "netanyahu",
          "republicans",
          "republican",
          "currentevents",
          "gaza",
          "democrat",
          "supremecourt",
          "topstories",
          "journalism",
          "rightwing",
          "inflation",
          "russia",
          "uselections",
          "abcnews",
          "viralnews",
          "covid",
          "foxnews",
          "berita",
          "liberalism",
          "vote",
          "quicknews",
          "putin",
          "internationalnews ",
          "unitednations",
          "cnn",
          "kenyanews",
          "ballot",
          "2024president",
          "technews",
          "azimio",
          "joebiden",
          "breaking",
          "protests",
          "FederalReserve",
          "msnbc",
          "healthnews",
          "fake news",
          "michigan",
          "election2024",
          "politicaltiktok",
          "newstiktok",
          "trumptrial",
          "learnontiktok",
          "newsweek",
          "ukraine",
          "newsafrica",
          "trump",
          "usaelections",
          "abortion",
          "vaccines",
          "ceasefire",
          "nbcnews",
          "blacklivesmatter",
          "newsattiktok",
          "israel",
          "uspolitics",
          "goodnews",
          "参議院",
          "NewsTok",
          "democrats",
          "bordercrisis",
          "supertuesday",
          "новости",
          "worldnews",
          "pandemic",
          "usnews",
          "fashionnews",
          "trump2024",
          "tiktokでニュース",
          "crimetok",
          "أخبار",
          "climatechange",
          "新闻",
          "election",
          "politics",
          "climategoals",
          "stateoftheunion",
          "usapolitics",
          "governmentshutdown",
          "trumprally",
          "congress",
          "climate",
          "nato",
          "trendingnews",
          "chinesepolitics",
          "townhall",
          "unemployment",
          "leftist",
          "newsupdate",
          "2024election",
          "biden",
          "palestine",
          "hamas",
          "uknews",
          "breakingnews2024",
          "aktualności",
          "reproductiverights",
          "2024debate",
          "houseofrepresentatives",
          "currentnews",
          "geonews",
          "economics",
          "noticiastiktok",
          "noticiasen1minuto",
          "PoliticalCommentary",
          "newsalert",
          "yahoonews",
          "breakingnewsalert",
          "liveupdates",
          "thedemocrats",
          "localnews",
          "2024breakingnews",
          "elections2022🇰🇪",
          "immigration",
          "oregonnews",
          "citizentvkenya",
          "cnbc",
          "news"
         ],
         "textfont": {
          "size": 6
         },
         "textposition": "top center",
         "type": "scatter",
         "x": [
          -0.7504299879074097,
          -3.4145150184631348,
          3.5243771076202393,
          -3.4998018741607666,
          -3.8796350955963135,
          2.8195040225982666,
          2.199202060699463,
          -7.10385274887085,
          -1.527258038520813,
          -7.251636981964111,
          4.511882781982422,
          -6.047243118286133,
          -5.354552268981934,
          -5.693178176879883,
          0.9340598583221436,
          -5.326709747314453,
          -5.787398338317871,
          5.172932147979736,
          8.390003204345703,
          -5.60931921005249,
          -7.504363536834717,
          0.22007983922958374,
          -8.492406845092773,
          7.143955230712891,
          2.1540822982788086,
          8.422126770019531,
          3.4401867389678955,
          -5.272633075714111,
          4.6098527908325195,
          -7.011812686920166,
          -2.301978349685669,
          2.0719306468963623,
          -8.223868370056152,
          0.4916536509990692,
          2.543876886367798,
          -4.751039028167725,
          5.7259392738342285,
          -2.4152541160583496,
          9.07657241821289,
          6.291858673095703,
          1.950443148612976,
          3.9416086673736572,
          0.830657958984375,
          -3.4354248046875,
          4.977234363555908,
          -5.430360794067383,
          5.739889621734619,
          -4.130015850067139,
          -8.503103256225586,
          2.6258199214935303,
          7.33054256439209,
          7.819198131561279,
          5.374105930328369,
          6.797946453094482,
          -5.951059818267822,
          -8.545498847961426,
          0.6015744805335999,
          -7.778633117675781,
          7.557005882263184,
          -4.1823930740356445,
          -1.2232328653335571,
          -4.685094356536865,
          4.756969451904297,
          -1.1743909120559692,
          6.70684289932251,
          -6.056930065155029,
          8.819520950317383,
          1.8615015745162964,
          3.1299843788146973,
          -0.2925029993057251,
          -5.399688243865967,
          4.8899431228637695,
          6.05778169631958,
          5.806479454040527,
          -4.727437973022461,
          -0.9373058080673218,
          7.276886940002441,
          0.6799596548080444,
          5.14041805267334,
          1.713474154472351,
          4.308971405029297,
          5.770484447479248,
          3.356675863265991,
          6.005448818206787,
          -2.7386534214019775,
          -2.700606346130371,
          6.492180347442627,
          1.5519767999649048,
          3.4381914138793945,
          5.322715759277344,
          6.3073954582214355,
          -3.8868465423583984,
          -0.3996710777282715,
          -9.378915786743164,
          1.0436750650405884,
          3.4200799465179443,
          -5.07278299331665,
          -1.7122955322265625,
          -7.527385711669922,
          4.883185386657715,
          2.4610633850097656,
          -6.436365604400635,
          -5.8485260009765625,
          -5.259450435638428,
          4.1357011795043945,
          3.8916122913360596,
          3.2248306274414062,
          3.187187433242798,
          1.4184479713439941,
          7.217374801635742,
          5.9860453605651855,
          1.6341029405593872,
          -0.766811728477478,
          4.130331993103027,
          4.454686641693115,
          1.4085325002670288,
          3.878286361694336,
          3.71496319770813,
          8.333757400512695,
          2.480445384979248,
          2.6649110317230225,
          4.352990627288818,
          6.683156490325928,
          3.072427988052368,
          -1.5844279527664185,
          2.121290922164917,
          8.3615140914917,
          -5.749244689941406,
          -3.7668206691741943
         ],
         "xaxis": "x",
         "y": [
          4.298874378204346,
          2.259305715560913,
          -2.8580682277679443,
          -2.60022234916687,
          2.588491916656494,
          -2.2232799530029297,
          -7.319489479064941,
          3.017465114593506,
          2.1502320766448975,
          3.036318778991699,
          -0.9441564679145813,
          -5.6958136558532715,
          2.1154186725616455,
          2.162860870361328,
          -4.3213911056518555,
          -5.5797343254089355,
          2.052694320678711,
          -4.34885311126709,
          -4.264297008514404,
          -2.356855630874634,
          1.6041535139083862,
          4.729020118713379,
          -2.542145013809204,
          -2.928889274597168,
          -3.0830078125,
          -2.7570652961730957,
          -4.097140789031982,
          -1.3465429544448853,
          -6.441475868225098,
          3.046417236328125,
          0.2638345956802368,
          1.0879751443862915,
          -1.8614460229873657,
          -6.700264930725098,
          -3.5078814029693604,
          -1.5646213293075562,
          -3.067633867263794,
          0.3132575452327728,
          -0.2904849648475647,
          -0.005206767935305834,
          -7.678651332855225,
          -7.5317912101745605,
          0.4643450379371643,
          0.5650354027748108,
          -2.859628915786743,
          -1.122933268547058,
          1.5594276189804077,
          -1.7848750352859497,
          -3.3613061904907227,
          0.5850551724433899,
          -0.9844992756843567,
          1.4080952405929565,
          -2.460326671600342,
          -0.6237789988517761,
          -2.4040679931640625,
          -2.6553781032562256,
          -1.2632269859313965,
          -0.929182767868042,
          -1.6766237020492554,
          3.3414971828460693,
          -3.6162192821502686,
          -6.449889659881592,
          -3.906937599182129,
          1.437180519104004,
          -1.9562128782272339,
          -5.193741798400879,
          -2.946531295776367,
          -0.7032156586647034,
          -0.5208448171615601,
          -3.0880775451660156,
          1.8528629541397095,
          -7.330072402954102,
          -0.29473912715911865,
          -0.15706387162208557,
          -3.2990834712982178,
          -4.866673946380615,
          2.7914247512817383,
          -3.091742753982544,
          -1.8233206272125244,
          -4.511661529541016,
          -4.1475677490234375,
          -5.0833282470703125,
          0.7006212472915649,
          -6.1747727394104,
          0.7213806509971619,
          1.9981673955917358,
          0.47171711921691895,
          -3.2883806228637695,
          -1.9832268953323364,
          -0.17167237401008606,
          -3.1693127155303955,
          1.6942119598388672,
          2.980055570602417,
          -2.4018876552581787,
          -5.2972798347473145,
          -5.0224432945251465,
          4.438060283660889,
          4.269796848297119,
          1.5958375930786133,
          0.8491389751434326,
          -0.8903120756149292,
          0.006922272499650717,
          -5.230045795440674,
          -5.6948347091674805,
          -2.546086311340332,
          -1.6855907440185547,
          -3.5219969749450684,
          -0.9713302850723267,
          -4.566143989562988,
          -4.155517101287842,
          -2.0752525329589844,
          -1.7988187074661255,
          4.398137092590332,
          -3.3782994747161865,
          -1.196602702140808,
          -2.1325607299804688,
          0.716677725315094,
          2.7727363109588623,
          -1.0247806310653687,
          -5.840851306915283,
          -4.506608963012695,
          -5.1152191162109375,
          -2.2396926879882812,
          -6.157448768615723,
          3.6604726314544678,
          -1.1294341087341309,
          -0.0905718132853508,
          -1.3650165796279907,
          -2.4213948249816895
         ],
         "yaxis": "y"
        }
       ],
       "layout": {
        "coloraxis": {
         "colorbar": {
          "title": {
           "text": "cluster"
          }
         },
         "colorscale": [
          [
           0,
           "rgb(0,0,255)"
          ],
          [
           1,
           "rgb(255,0,0)"
          ]
         ]
        },
        "height": 800,
        "legend": {
         "tracegroupgap": 0
        },
        "margin": {
         "t": 60
        },
        "template": {
         "data": {
          "bar": [
           {
            "error_x": {
             "color": "#2a3f5f"
            },
            "error_y": {
             "color": "#2a3f5f"
            },
            "marker": {
             "line": {
              "color": "#E5ECF6",
              "width": 0.5
             },
             "pattern": {
              "fillmode": "overlay",
              "size": 10,
              "solidity": 0.2
             }
            },
            "type": "bar"
           }
          ],
          "barpolar": [
           {
            "marker": {
             "line": {
              "color": "#E5ECF6",
              "width": 0.5
             },
             "pattern": {
              "fillmode": "overlay",
              "size": 10,
              "solidity": 0.2
             }
            },
            "type": "barpolar"
           }
          ],
          "carpet": [
           {
            "aaxis": {
             "endlinecolor": "#2a3f5f",
             "gridcolor": "white",
             "linecolor": "white",
             "minorgridcolor": "white",
             "startlinecolor": "#2a3f5f"
            },
            "baxis": {
             "endlinecolor": "#2a3f5f",
             "gridcolor": "white",
             "linecolor": "white",
             "minorgridcolor": "white",
             "startlinecolor": "#2a3f5f"
            },
            "type": "carpet"
           }
          ],
          "choropleth": [
           {
            "colorbar": {
             "outlinewidth": 0,
             "ticks": ""
            },
            "type": "choropleth"
           }
          ],
          "contour": [
           {
            "colorbar": {
             "outlinewidth": 0,
             "ticks": ""
            },
            "colorscale": [
             [
              0,
              "#0d0887"
             ],
             [
              0.1111111111111111,
              "#46039f"
             ],
             [
              0.2222222222222222,
              "#7201a8"
             ],
             [
              0.3333333333333333,
              "#9c179e"
             ],
             [
              0.4444444444444444,
              "#bd3786"
             ],
             [
              0.5555555555555556,
              "#d8576b"
             ],
             [
              0.6666666666666666,
              "#ed7953"
             ],
             [
              0.7777777777777778,
              "#fb9f3a"
             ],
             [
              0.8888888888888888,
              "#fdca26"
             ],
             [
              1,
              "#f0f921"
             ]
            ],
            "type": "contour"
           }
          ],
          "contourcarpet": [
           {
            "colorbar": {
             "outlinewidth": 0,
             "ticks": ""
            },
            "type": "contourcarpet"
           }
          ],
          "heatmap": [
           {
            "colorbar": {
             "outlinewidth": 0,
             "ticks": ""
            },
            "colorscale": [
             [
              0,
              "#0d0887"
             ],
             [
              0.1111111111111111,
              "#46039f"
             ],
             [
              0.2222222222222222,
              "#7201a8"
             ],
             [
              0.3333333333333333,
              "#9c179e"
             ],
             [
              0.4444444444444444,
              "#bd3786"
             ],
             [
              0.5555555555555556,
              "#d8576b"
             ],
             [
              0.6666666666666666,
              "#ed7953"
             ],
             [
              0.7777777777777778,
              "#fb9f3a"
             ],
             [
              0.8888888888888888,
              "#fdca26"
             ],
             [
              1,
              "#f0f921"
             ]
            ],
            "type": "heatmap"
           }
          ],
          "heatmapgl": [
           {
            "colorbar": {
             "outlinewidth": 0,
             "ticks": ""
            },
            "colorscale": [
             [
              0,
              "#0d0887"
             ],
             [
              0.1111111111111111,
              "#46039f"
             ],
             [
              0.2222222222222222,
              "#7201a8"
             ],
             [
              0.3333333333333333,
              "#9c179e"
             ],
             [
              0.4444444444444444,
              "#bd3786"
             ],
             [
              0.5555555555555556,
              "#d8576b"
             ],
             [
              0.6666666666666666,
              "#ed7953"
             ],
             [
              0.7777777777777778,
              "#fb9f3a"
             ],
             [
              0.8888888888888888,
              "#fdca26"
             ],
             [
              1,
              "#f0f921"
             ]
            ],
            "type": "heatmapgl"
           }
          ],
          "histogram": [
           {
            "marker": {
             "pattern": {
              "fillmode": "overlay",
              "size": 10,
              "solidity": 0.2
             }
            },
            "type": "histogram"
           }
          ],
          "histogram2d": [
           {
            "colorbar": {
             "outlinewidth": 0,
             "ticks": ""
            },
            "colorscale": [
             [
              0,
              "#0d0887"
             ],
             [
              0.1111111111111111,
              "#46039f"
             ],
             [
              0.2222222222222222,
              "#7201a8"
             ],
             [
              0.3333333333333333,
              "#9c179e"
             ],
             [
              0.4444444444444444,
              "#bd3786"
             ],
             [
              0.5555555555555556,
              "#d8576b"
             ],
             [
              0.6666666666666666,
              "#ed7953"
             ],
             [
              0.7777777777777778,
              "#fb9f3a"
             ],
             [
              0.8888888888888888,
              "#fdca26"
             ],
             [
              1,
              "#f0f921"
             ]
            ],
            "type": "histogram2d"
           }
          ],
          "histogram2dcontour": [
           {
            "colorbar": {
             "outlinewidth": 0,
             "ticks": ""
            },
            "colorscale": [
             [
              0,
              "#0d0887"
             ],
             [
              0.1111111111111111,
              "#46039f"
             ],
             [
              0.2222222222222222,
              "#7201a8"
             ],
             [
              0.3333333333333333,
              "#9c179e"
             ],
             [
              0.4444444444444444,
              "#bd3786"
             ],
             [
              0.5555555555555556,
              "#d8576b"
             ],
             [
              0.6666666666666666,
              "#ed7953"
             ],
             [
              0.7777777777777778,
              "#fb9f3a"
             ],
             [
              0.8888888888888888,
              "#fdca26"
             ],
             [
              1,
              "#f0f921"
             ]
            ],
            "type": "histogram2dcontour"
           }
          ],
          "mesh3d": [
           {
            "colorbar": {
             "outlinewidth": 0,
             "ticks": ""
            },
            "type": "mesh3d"
           }
          ],
          "parcoords": [
           {
            "line": {
             "colorbar": {
              "outlinewidth": 0,
              "ticks": ""
             }
            },
            "type": "parcoords"
           }
          ],
          "pie": [
           {
            "automargin": true,
            "type": "pie"
           }
          ],
          "scatter": [
           {
            "fillpattern": {
             "fillmode": "overlay",
             "size": 10,
             "solidity": 0.2
            },
            "type": "scatter"
           }
          ],
          "scatter3d": [
           {
            "line": {
             "colorbar": {
              "outlinewidth": 0,
              "ticks": ""
             }
            },
            "marker": {
             "colorbar": {
              "outlinewidth": 0,
              "ticks": ""
             }
            },
            "type": "scatter3d"
           }
          ],
          "scattercarpet": [
           {
            "marker": {
             "colorbar": {
              "outlinewidth": 0,
              "ticks": ""
             }
            },
            "type": "scattercarpet"
           }
          ],
          "scattergeo": [
           {
            "marker": {
             "colorbar": {
              "outlinewidth": 0,
              "ticks": ""
             }
            },
            "type": "scattergeo"
           }
          ],
          "scattergl": [
           {
            "marker": {
             "colorbar": {
              "outlinewidth": 0,
              "ticks": ""
             }
            },
            "type": "scattergl"
           }
          ],
          "scattermapbox": [
           {
            "marker": {
             "colorbar": {
              "outlinewidth": 0,
              "ticks": ""
             }
            },
            "type": "scattermapbox"
           }
          ],
          "scatterpolar": [
           {
            "marker": {
             "colorbar": {
              "outlinewidth": 0,
              "ticks": ""
             }
            },
            "type": "scatterpolar"
           }
          ],
          "scatterpolargl": [
           {
            "marker": {
             "colorbar": {
              "outlinewidth": 0,
              "ticks": ""
             }
            },
            "type": "scatterpolargl"
           }
          ],
          "scatterternary": [
           {
            "marker": {
             "colorbar": {
              "outlinewidth": 0,
              "ticks": ""
             }
            },
            "type": "scatterternary"
           }
          ],
          "surface": [
           {
            "colorbar": {
             "outlinewidth": 0,
             "ticks": ""
            },
            "colorscale": [
             [
              0,
              "#0d0887"
             ],
             [
              0.1111111111111111,
              "#46039f"
             ],
             [
              0.2222222222222222,
              "#7201a8"
             ],
             [
              0.3333333333333333,
              "#9c179e"
             ],
             [
              0.4444444444444444,
              "#bd3786"
             ],
             [
              0.5555555555555556,
              "#d8576b"
             ],
             [
              0.6666666666666666,
              "#ed7953"
             ],
             [
              0.7777777777777778,
              "#fb9f3a"
             ],
             [
              0.8888888888888888,
              "#fdca26"
             ],
             [
              1,
              "#f0f921"
             ]
            ],
            "type": "surface"
           }
          ],
          "table": [
           {
            "cells": {
             "fill": {
              "color": "#EBF0F8"
             },
             "line": {
              "color": "white"
             }
            },
            "header": {
             "fill": {
              "color": "#C8D4E3"
             },
             "line": {
              "color": "white"
             }
            },
            "type": "table"
           }
          ]
         },
         "layout": {
          "annotationdefaults": {
           "arrowcolor": "#2a3f5f",
           "arrowhead": 0,
           "arrowwidth": 1
          },
          "autotypenumbers": "strict",
          "coloraxis": {
           "colorbar": {
            "outlinewidth": 0,
            "ticks": ""
           }
          },
          "colorscale": {
           "diverging": [
            [
             0,
             "#8e0152"
            ],
            [
             0.1,
             "#c51b7d"
            ],
            [
             0.2,
             "#de77ae"
            ],
            [
             0.3,
             "#f1b6da"
            ],
            [
             0.4,
             "#fde0ef"
            ],
            [
             0.5,
             "#f7f7f7"
            ],
            [
             0.6,
             "#e6f5d0"
            ],
            [
             0.7,
             "#b8e186"
            ],
            [
             0.8,
             "#7fbc41"
            ],
            [
             0.9,
             "#4d9221"
            ],
            [
             1,
             "#276419"
            ]
           ],
           "sequential": [
            [
             0,
             "#0d0887"
            ],
            [
             0.1111111111111111,
             "#46039f"
            ],
            [
             0.2222222222222222,
             "#7201a8"
            ],
            [
             0.3333333333333333,
             "#9c179e"
            ],
            [
             0.4444444444444444,
             "#bd3786"
            ],
            [
             0.5555555555555556,
             "#d8576b"
            ],
            [
             0.6666666666666666,
             "#ed7953"
            ],
            [
             0.7777777777777778,
             "#fb9f3a"
            ],
            [
             0.8888888888888888,
             "#fdca26"
            ],
            [
             1,
             "#f0f921"
            ]
           ],
           "sequentialminus": [
            [
             0,
             "#0d0887"
            ],
            [
             0.1111111111111111,
             "#46039f"
            ],
            [
             0.2222222222222222,
             "#7201a8"
            ],
            [
             0.3333333333333333,
             "#9c179e"
            ],
            [
             0.4444444444444444,
             "#bd3786"
            ],
            [
             0.5555555555555556,
             "#d8576b"
            ],
            [
             0.6666666666666666,
             "#ed7953"
            ],
            [
             0.7777777777777778,
             "#fb9f3a"
            ],
            [
             0.8888888888888888,
             "#fdca26"
            ],
            [
             1,
             "#f0f921"
            ]
           ]
          },
          "colorway": [
           "#636efa",
           "#EF553B",
           "#00cc96",
           "#ab63fa",
           "#FFA15A",
           "#19d3f3",
           "#FF6692",
           "#B6E880",
           "#FF97FF",
           "#FECB52"
          ],
          "font": {
           "color": "#2a3f5f"
          },
          "geo": {
           "bgcolor": "white",
           "lakecolor": "white",
           "landcolor": "#E5ECF6",
           "showlakes": true,
           "showland": true,
           "subunitcolor": "white"
          },
          "hoverlabel": {
           "align": "left"
          },
          "hovermode": "closest",
          "mapbox": {
           "style": "light"
          },
          "paper_bgcolor": "white",
          "plot_bgcolor": "#E5ECF6",
          "polar": {
           "angularaxis": {
            "gridcolor": "white",
            "linecolor": "white",
            "ticks": ""
           },
           "bgcolor": "#E5ECF6",
           "radialaxis": {
            "gridcolor": "white",
            "linecolor": "white",
            "ticks": ""
           }
          },
          "scene": {
           "xaxis": {
            "backgroundcolor": "#E5ECF6",
            "gridcolor": "white",
            "gridwidth": 2,
            "linecolor": "white",
            "showbackground": true,
            "ticks": "",
            "zerolinecolor": "white"
           },
           "yaxis": {
            "backgroundcolor": "#E5ECF6",
            "gridcolor": "white",
            "gridwidth": 2,
            "linecolor": "white",
            "showbackground": true,
            "ticks": "",
            "zerolinecolor": "white"
           },
           "zaxis": {
            "backgroundcolor": "#E5ECF6",
            "gridcolor": "white",
            "gridwidth": 2,
            "linecolor": "white",
            "showbackground": true,
            "ticks": "",
            "zerolinecolor": "white"
           }
          },
          "shapedefaults": {
           "line": {
            "color": "#2a3f5f"
           }
          },
          "ternary": {
           "aaxis": {
            "gridcolor": "white",
            "linecolor": "white",
            "ticks": ""
           },
           "baxis": {
            "gridcolor": "white",
            "linecolor": "white",
            "ticks": ""
           },
           "bgcolor": "#E5ECF6",
           "caxis": {
            "gridcolor": "white",
            "linecolor": "white",
            "ticks": ""
           }
          },
          "title": {
           "x": 0.05
          },
          "xaxis": {
           "automargin": true,
           "gridcolor": "white",
           "linecolor": "white",
           "ticks": "",
           "title": {
            "standoff": 15
           },
           "zerolinecolor": "white",
           "zerolinewidth": 2
          },
          "yaxis": {
           "automargin": true,
           "gridcolor": "white",
           "linecolor": "white",
           "ticks": "",
           "title": {
            "standoff": 15
           },
           "zerolinecolor": "white",
           "zerolinewidth": 2
          }
         }
        },
        "title": {
         "text": "Embeddings of TikTok News Hashtags"
        },
        "width": 800,
        "xaxis": {
         "anchor": "y",
         "domain": [
          0,
          1
         ],
         "title": {
          "text": "tsne_1"
         }
        },
        "yaxis": {
         "anchor": "x",
         "domain": [
          0,
          1
         ],
         "title": {
          "text": "tsne_2"
         }
        }
       }
      },
      "text/html": [
       "<div>                            <div id=\"76691669-a89e-43ca-ad9f-a462febe6e06\" class=\"plotly-graph-div\" style=\"height:800px; width:800px;\"></div>            <script type=\"text/javascript\">                require([\"plotly\"], function(Plotly) {                    window.PLOTLYENV=window.PLOTLYENV || {};                                    if (document.getElementById(\"76691669-a89e-43ca-ad9f-a462febe6e06\")) {                    Plotly.newPlot(                        \"76691669-a89e-43ca-ad9f-a462febe6e06\",                        [{\"hovertemplate\":\"tsne_1=%{x}\\u003cbr\\u003etsne_2=%{y}\\u003cbr\\u003ehashtag=%{text}\\u003cbr\\u003ecluster=%{marker.color}\\u003cextra\\u003e\\u003c\\u002fextra\\u003e\",\"legendgroup\":\"\",\"marker\":{\"color\":[2,0,1,2,0,2,2,0,2,0,1,0,0,0,2,0,0,2,1,0,0,2,0,1,2,1,1,0,2,0,2,2,0,2,2,0,1,2,1,1,2,2,2,0,1,0,1,0,0,2,1,1,1,1,0,0,1,0,1,0,0,0,1,0,1,0,1,2,1,1,0,2,1,1,0,2,1,2,1,1,2,2,1,2,0,0,1,1,2,1,1,0,2,0,2,2,0,2,0,1,1,0,0,0,1,1,2,1,1,1,1,1,2,1,1,2,1,1,1,2,2,1,1,1,2,2,1,0,2],\"coloraxis\":\"coloraxis\",\"symbol\":\"circle\"},\"mode\":\"markers+text\",\"name\":\"\",\"orientation\":\"v\",\"showlegend\":false,\"text\":[\"economy\",\"constitution\",\"breakingnews\",\"noticias\",\"scotus\",\"mediawatch\",\"historytok\",\"liberal\",\"crime\",\"conservative\",\"militarynews \",\"netanyahu\",\"republicans\",\"republican\",\"currentevents\",\"gaza\",\"democrat\",\"supremecourt\",\"topstories\",\"journalism\",\"rightwing\",\"inflation\",\"russia\",\"uselections\",\"abcnews\",\"viralnews\",\"covid\",\"foxnews\",\"berita\",\"liberalism\",\"vote\",\"quicknews\",\"putin\",\"internationalnews \",\"unitednations\",\"cnn\",\"kenyanews\",\"ballot\",\"2024president\",\"technews\",\"azimio\",\"joebiden\",\"breaking\",\"protests\",\"FederalReserve\",\"msnbc\",\"healthnews\",\"fake news\",\"michigan\",\"election2024\",\"politicaltiktok\",\"newstiktok\",\"trumptrial\",\"learnontiktok\",\"newsweek\",\"ukraine\",\"newsafrica\",\"trump\",\"usaelections\",\"abortion\",\"vaccines\",\"ceasefire\",\"nbcnews\",\"blacklivesmatter\",\"newsattiktok\",\"israel\",\"uspolitics\",\"goodnews\",\"\\u53c2\\u8b70\\u9662\",\"NewsTok\",\"democrats\",\"bordercrisis\",\"supertuesday\",\"\\u043d\\u043e\\u0432\\u043e\\u0441\\u0442\\u0438\",\"worldnews\",\"pandemic\",\"usnews\",\"fashionnews\",\"trump2024\",\"tiktok\\u3067\\u30cb\\u30e5\\u30fc\\u30b9\",\"crimetok\",\"\\u0623\\u062e\\u0628\\u0627\\u0631\",\"climatechange\",\"\\u65b0\\u95fb\",\"election\",\"politics\",\"climategoals\",\"stateoftheunion\",\"usapolitics\",\"governmentshutdown\",\"trumprally\",\"congress\",\"climate\",\"nato\",\"trendingnews\",\"chinesepolitics\",\"townhall\",\"unemployment\",\"leftist\",\"newsupdate\",\"2024election\",\"biden\",\"palestine\",\"hamas\",\"uknews\",\"breakingnews2024\",\"aktualno\\u015bci\",\"reproductiverights\",\"2024debate\",\"houseofrepresentatives\",\"currentnews\",\"geonews\",\"economics\",\"noticiastiktok\",\"noticiasen1minuto\",\"PoliticalCommentary\",\"newsalert\",\"yahoonews\",\"breakingnewsalert\",\"liveupdates\",\"thedemocrats\",\"localnews\",\"2024breakingnews\",\"elections2022\\ud83c\\uddf0\\ud83c\\uddea\",\"immigration\",\"oregonnews\",\"citizentvkenya\",\"cnbc\",\"news\"],\"x\":[-0.7504299879074097,-3.4145150184631348,3.5243771076202393,-3.4998018741607666,-3.8796350955963135,2.8195040225982666,2.199202060699463,-7.10385274887085,-1.527258038520813,-7.251636981964111,4.511882781982422,-6.047243118286133,-5.354552268981934,-5.693178176879883,0.9340598583221436,-5.326709747314453,-5.787398338317871,5.172932147979736,8.390003204345703,-5.60931921005249,-7.504363536834717,0.22007983922958374,-8.492406845092773,7.143955230712891,2.1540822982788086,8.422126770019531,3.4401867389678955,-5.272633075714111,4.6098527908325195,-7.011812686920166,-2.301978349685669,2.0719306468963623,-8.223868370056152,0.4916536509990692,2.543876886367798,-4.751039028167725,5.7259392738342285,-2.4152541160583496,9.07657241821289,6.291858673095703,1.950443148612976,3.9416086673736572,0.830657958984375,-3.4354248046875,4.977234363555908,-5.430360794067383,5.739889621734619,-4.130015850067139,-8.503103256225586,2.6258199214935303,7.33054256439209,7.819198131561279,5.374105930328369,6.797946453094482,-5.951059818267822,-8.545498847961426,0.6015744805335999,-7.778633117675781,7.557005882263184,-4.1823930740356445,-1.2232328653335571,-4.685094356536865,4.756969451904297,-1.1743909120559692,6.70684289932251,-6.056930065155029,8.819520950317383,1.8615015745162964,3.1299843788146973,-0.2925029993057251,-5.399688243865967,4.8899431228637695,6.05778169631958,5.806479454040527,-4.727437973022461,-0.9373058080673218,7.276886940002441,0.6799596548080444,5.14041805267334,1.713474154472351,4.308971405029297,5.770484447479248,3.356675863265991,6.005448818206787,-2.7386534214019775,-2.700606346130371,6.492180347442627,1.5519767999649048,3.4381914138793945,5.322715759277344,6.3073954582214355,-3.8868465423583984,-0.3996710777282715,-9.378915786743164,1.0436750650405884,3.4200799465179443,-5.07278299331665,-1.7122955322265625,-7.527385711669922,4.883185386657715,2.4610633850097656,-6.436365604400635,-5.8485260009765625,-5.259450435638428,4.1357011795043945,3.8916122913360596,3.2248306274414062,3.187187433242798,1.4184479713439941,7.217374801635742,5.9860453605651855,1.6341029405593872,-0.766811728477478,4.130331993103027,4.454686641693115,1.4085325002670288,3.878286361694336,3.71496319770813,8.333757400512695,2.480445384979248,2.6649110317230225,4.352990627288818,6.683156490325928,3.072427988052368,-1.5844279527664185,2.121290922164917,8.3615140914917,-5.749244689941406,-3.7668206691741943],\"xaxis\":\"x\",\"y\":[4.298874378204346,2.259305715560913,-2.8580682277679443,-2.60022234916687,2.588491916656494,-2.2232799530029297,-7.319489479064941,3.017465114593506,2.1502320766448975,3.036318778991699,-0.9441564679145813,-5.6958136558532715,2.1154186725616455,2.162860870361328,-4.3213911056518555,-5.5797343254089355,2.052694320678711,-4.34885311126709,-4.264297008514404,-2.356855630874634,1.6041535139083862,4.729020118713379,-2.542145013809204,-2.928889274597168,-3.0830078125,-2.7570652961730957,-4.097140789031982,-1.3465429544448853,-6.441475868225098,3.046417236328125,0.2638345956802368,1.0879751443862915,-1.8614460229873657,-6.700264930725098,-3.5078814029693604,-1.5646213293075562,-3.067633867263794,0.3132575452327728,-0.2904849648475647,-0.005206767935305834,-7.678651332855225,-7.5317912101745605,0.4643450379371643,0.5650354027748108,-2.859628915786743,-1.122933268547058,1.5594276189804077,-1.7848750352859497,-3.3613061904907227,0.5850551724433899,-0.9844992756843567,1.4080952405929565,-2.460326671600342,-0.6237789988517761,-2.4040679931640625,-2.6553781032562256,-1.2632269859313965,-0.929182767868042,-1.6766237020492554,3.3414971828460693,-3.6162192821502686,-6.449889659881592,-3.906937599182129,1.437180519104004,-1.9562128782272339,-5.193741798400879,-2.946531295776367,-0.7032156586647034,-0.5208448171615601,-3.0880775451660156,1.8528629541397095,-7.330072402954102,-0.29473912715911865,-0.15706387162208557,-3.2990834712982178,-4.866673946380615,2.7914247512817383,-3.091742753982544,-1.8233206272125244,-4.511661529541016,-4.1475677490234375,-5.0833282470703125,0.7006212472915649,-6.1747727394104,0.7213806509971619,1.9981673955917358,0.47171711921691895,-3.2883806228637695,-1.9832268953323364,-0.17167237401008606,-3.1693127155303955,1.6942119598388672,2.980055570602417,-2.4018876552581787,-5.2972798347473145,-5.0224432945251465,4.438060283660889,4.269796848297119,1.5958375930786133,0.8491389751434326,-0.8903120756149292,0.006922272499650717,-5.230045795440674,-5.6948347091674805,-2.546086311340332,-1.6855907440185547,-3.5219969749450684,-0.9713302850723267,-4.566143989562988,-4.155517101287842,-2.0752525329589844,-1.7988187074661255,4.398137092590332,-3.3782994747161865,-1.196602702140808,-2.1325607299804688,0.716677725315094,2.7727363109588623,-1.0247806310653687,-5.840851306915283,-4.506608963012695,-5.1152191162109375,-2.2396926879882812,-6.157448768615723,3.6604726314544678,-1.1294341087341309,-0.0905718132853508,-1.3650165796279907,-2.4213948249816895],\"yaxis\":\"y\",\"type\":\"scatter\",\"textfont\":{\"size\":6},\"textposition\":\"top center\"}],                        {\"template\":{\"data\":{\"histogram2dcontour\":[{\"type\":\"histogram2dcontour\",\"colorbar\":{\"outlinewidth\":0,\"ticks\":\"\"},\"colorscale\":[[0.0,\"#0d0887\"],[0.1111111111111111,\"#46039f\"],[0.2222222222222222,\"#7201a8\"],[0.3333333333333333,\"#9c179e\"],[0.4444444444444444,\"#bd3786\"],[0.5555555555555556,\"#d8576b\"],[0.6666666666666666,\"#ed7953\"],[0.7777777777777778,\"#fb9f3a\"],[0.8888888888888888,\"#fdca26\"],[1.0,\"#f0f921\"]]}],\"choropleth\":[{\"type\":\"choropleth\",\"colorbar\":{\"outlinewidth\":0,\"ticks\":\"\"}}],\"histogram2d\":[{\"type\":\"histogram2d\",\"colorbar\":{\"outlinewidth\":0,\"ticks\":\"\"},\"colorscale\":[[0.0,\"#0d0887\"],[0.1111111111111111,\"#46039f\"],[0.2222222222222222,\"#7201a8\"],[0.3333333333333333,\"#9c179e\"],[0.4444444444444444,\"#bd3786\"],[0.5555555555555556,\"#d8576b\"],[0.6666666666666666,\"#ed7953\"],[0.7777777777777778,\"#fb9f3a\"],[0.8888888888888888,\"#fdca26\"],[1.0,\"#f0f921\"]]}],\"heatmap\":[{\"type\":\"heatmap\",\"colorbar\":{\"outlinewidth\":0,\"ticks\":\"\"},\"colorscale\":[[0.0,\"#0d0887\"],[0.1111111111111111,\"#46039f\"],[0.2222222222222222,\"#7201a8\"],[0.3333333333333333,\"#9c179e\"],[0.4444444444444444,\"#bd3786\"],[0.5555555555555556,\"#d8576b\"],[0.6666666666666666,\"#ed7953\"],[0.7777777777777778,\"#fb9f3a\"],[0.8888888888888888,\"#fdca26\"],[1.0,\"#f0f921\"]]}],\"heatmapgl\":[{\"type\":\"heatmapgl\",\"colorbar\":{\"outlinewidth\":0,\"ticks\":\"\"},\"colorscale\":[[0.0,\"#0d0887\"],[0.1111111111111111,\"#46039f\"],[0.2222222222222222,\"#7201a8\"],[0.3333333333333333,\"#9c179e\"],[0.4444444444444444,\"#bd3786\"],[0.5555555555555556,\"#d8576b\"],[0.6666666666666666,\"#ed7953\"],[0.7777777777777778,\"#fb9f3a\"],[0.8888888888888888,\"#fdca26\"],[1.0,\"#f0f921\"]]}],\"contourcarpet\":[{\"type\":\"contourcarpet\",\"colorbar\":{\"outlinewidth\":0,\"ticks\":\"\"}}],\"contour\":[{\"type\":\"contour\",\"colorbar\":{\"outlinewidth\":0,\"ticks\":\"\"},\"colorscale\":[[0.0,\"#0d0887\"],[0.1111111111111111,\"#46039f\"],[0.2222222222222222,\"#7201a8\"],[0.3333333333333333,\"#9c179e\"],[0.4444444444444444,\"#bd3786\"],[0.5555555555555556,\"#d8576b\"],[0.6666666666666666,\"#ed7953\"],[0.7777777777777778,\"#fb9f3a\"],[0.8888888888888888,\"#fdca26\"],[1.0,\"#f0f921\"]]}],\"surface\":[{\"type\":\"surface\",\"colorbar\":{\"outlinewidth\":0,\"ticks\":\"\"},\"colorscale\":[[0.0,\"#0d0887\"],[0.1111111111111111,\"#46039f\"],[0.2222222222222222,\"#7201a8\"],[0.3333333333333333,\"#9c179e\"],[0.4444444444444444,\"#bd3786\"],[0.5555555555555556,\"#d8576b\"],[0.6666666666666666,\"#ed7953\"],[0.7777777777777778,\"#fb9f3a\"],[0.8888888888888888,\"#fdca26\"],[1.0,\"#f0f921\"]]}],\"mesh3d\":[{\"type\":\"mesh3d\",\"colorbar\":{\"outlinewidth\":0,\"ticks\":\"\"}}],\"scatter\":[{\"fillpattern\":{\"fillmode\":\"overlay\",\"size\":10,\"solidity\":0.2},\"type\":\"scatter\"}],\"parcoords\":[{\"type\":\"parcoords\",\"line\":{\"colorbar\":{\"outlinewidth\":0,\"ticks\":\"\"}}}],\"scatterpolargl\":[{\"type\":\"scatterpolargl\",\"marker\":{\"colorbar\":{\"outlinewidth\":0,\"ticks\":\"\"}}}],\"bar\":[{\"error_x\":{\"color\":\"#2a3f5f\"},\"error_y\":{\"color\":\"#2a3f5f\"},\"marker\":{\"line\":{\"color\":\"#E5ECF6\",\"width\":0.5},\"pattern\":{\"fillmode\":\"overlay\",\"size\":10,\"solidity\":0.2}},\"type\":\"bar\"}],\"scattergeo\":[{\"type\":\"scattergeo\",\"marker\":{\"colorbar\":{\"outlinewidth\":0,\"ticks\":\"\"}}}],\"scatterpolar\":[{\"type\":\"scatterpolar\",\"marker\":{\"colorbar\":{\"outlinewidth\":0,\"ticks\":\"\"}}}],\"histogram\":[{\"marker\":{\"pattern\":{\"fillmode\":\"overlay\",\"size\":10,\"solidity\":0.2}},\"type\":\"histogram\"}],\"scattergl\":[{\"type\":\"scattergl\",\"marker\":{\"colorbar\":{\"outlinewidth\":0,\"ticks\":\"\"}}}],\"scatter3d\":[{\"type\":\"scatter3d\",\"line\":{\"colorbar\":{\"outlinewidth\":0,\"ticks\":\"\"}},\"marker\":{\"colorbar\":{\"outlinewidth\":0,\"ticks\":\"\"}}}],\"scattermapbox\":[{\"type\":\"scattermapbox\",\"marker\":{\"colorbar\":{\"outlinewidth\":0,\"ticks\":\"\"}}}],\"scatterternary\":[{\"type\":\"scatterternary\",\"marker\":{\"colorbar\":{\"outlinewidth\":0,\"ticks\":\"\"}}}],\"scattercarpet\":[{\"type\":\"scattercarpet\",\"marker\":{\"colorbar\":{\"outlinewidth\":0,\"ticks\":\"\"}}}],\"carpet\":[{\"aaxis\":{\"endlinecolor\":\"#2a3f5f\",\"gridcolor\":\"white\",\"linecolor\":\"white\",\"minorgridcolor\":\"white\",\"startlinecolor\":\"#2a3f5f\"},\"baxis\":{\"endlinecolor\":\"#2a3f5f\",\"gridcolor\":\"white\",\"linecolor\":\"white\",\"minorgridcolor\":\"white\",\"startlinecolor\":\"#2a3f5f\"},\"type\":\"carpet\"}],\"table\":[{\"cells\":{\"fill\":{\"color\":\"#EBF0F8\"},\"line\":{\"color\":\"white\"}},\"header\":{\"fill\":{\"color\":\"#C8D4E3\"},\"line\":{\"color\":\"white\"}},\"type\":\"table\"}],\"barpolar\":[{\"marker\":{\"line\":{\"color\":\"#E5ECF6\",\"width\":0.5},\"pattern\":{\"fillmode\":\"overlay\",\"size\":10,\"solidity\":0.2}},\"type\":\"barpolar\"}],\"pie\":[{\"automargin\":true,\"type\":\"pie\"}]},\"layout\":{\"autotypenumbers\":\"strict\",\"colorway\":[\"#636efa\",\"#EF553B\",\"#00cc96\",\"#ab63fa\",\"#FFA15A\",\"#19d3f3\",\"#FF6692\",\"#B6E880\",\"#FF97FF\",\"#FECB52\"],\"font\":{\"color\":\"#2a3f5f\"},\"hovermode\":\"closest\",\"hoverlabel\":{\"align\":\"left\"},\"paper_bgcolor\":\"white\",\"plot_bgcolor\":\"#E5ECF6\",\"polar\":{\"bgcolor\":\"#E5ECF6\",\"angularaxis\":{\"gridcolor\":\"white\",\"linecolor\":\"white\",\"ticks\":\"\"},\"radialaxis\":{\"gridcolor\":\"white\",\"linecolor\":\"white\",\"ticks\":\"\"}},\"ternary\":{\"bgcolor\":\"#E5ECF6\",\"aaxis\":{\"gridcolor\":\"white\",\"linecolor\":\"white\",\"ticks\":\"\"},\"baxis\":{\"gridcolor\":\"white\",\"linecolor\":\"white\",\"ticks\":\"\"},\"caxis\":{\"gridcolor\":\"white\",\"linecolor\":\"white\",\"ticks\":\"\"}},\"coloraxis\":{\"colorbar\":{\"outlinewidth\":0,\"ticks\":\"\"}},\"colorscale\":{\"sequential\":[[0.0,\"#0d0887\"],[0.1111111111111111,\"#46039f\"],[0.2222222222222222,\"#7201a8\"],[0.3333333333333333,\"#9c179e\"],[0.4444444444444444,\"#bd3786\"],[0.5555555555555556,\"#d8576b\"],[0.6666666666666666,\"#ed7953\"],[0.7777777777777778,\"#fb9f3a\"],[0.8888888888888888,\"#fdca26\"],[1.0,\"#f0f921\"]],\"sequentialminus\":[[0.0,\"#0d0887\"],[0.1111111111111111,\"#46039f\"],[0.2222222222222222,\"#7201a8\"],[0.3333333333333333,\"#9c179e\"],[0.4444444444444444,\"#bd3786\"],[0.5555555555555556,\"#d8576b\"],[0.6666666666666666,\"#ed7953\"],[0.7777777777777778,\"#fb9f3a\"],[0.8888888888888888,\"#fdca26\"],[1.0,\"#f0f921\"]],\"diverging\":[[0,\"#8e0152\"],[0.1,\"#c51b7d\"],[0.2,\"#de77ae\"],[0.3,\"#f1b6da\"],[0.4,\"#fde0ef\"],[0.5,\"#f7f7f7\"],[0.6,\"#e6f5d0\"],[0.7,\"#b8e186\"],[0.8,\"#7fbc41\"],[0.9,\"#4d9221\"],[1,\"#276419\"]]},\"xaxis\":{\"gridcolor\":\"white\",\"linecolor\":\"white\",\"ticks\":\"\",\"title\":{\"standoff\":15},\"zerolinecolor\":\"white\",\"automargin\":true,\"zerolinewidth\":2},\"yaxis\":{\"gridcolor\":\"white\",\"linecolor\":\"white\",\"ticks\":\"\",\"title\":{\"standoff\":15},\"zerolinecolor\":\"white\",\"automargin\":true,\"zerolinewidth\":2},\"scene\":{\"xaxis\":{\"backgroundcolor\":\"#E5ECF6\",\"gridcolor\":\"white\",\"linecolor\":\"white\",\"showbackground\":true,\"ticks\":\"\",\"zerolinecolor\":\"white\",\"gridwidth\":2},\"yaxis\":{\"backgroundcolor\":\"#E5ECF6\",\"gridcolor\":\"white\",\"linecolor\":\"white\",\"showbackground\":true,\"ticks\":\"\",\"zerolinecolor\":\"white\",\"gridwidth\":2},\"zaxis\":{\"backgroundcolor\":\"#E5ECF6\",\"gridcolor\":\"white\",\"linecolor\":\"white\",\"showbackground\":true,\"ticks\":\"\",\"zerolinecolor\":\"white\",\"gridwidth\":2}},\"shapedefaults\":{\"line\":{\"color\":\"#2a3f5f\"}},\"annotationdefaults\":{\"arrowcolor\":\"#2a3f5f\",\"arrowhead\":0,\"arrowwidth\":1},\"geo\":{\"bgcolor\":\"white\",\"landcolor\":\"#E5ECF6\",\"subunitcolor\":\"white\",\"showland\":true,\"showlakes\":true,\"lakecolor\":\"white\"},\"title\":{\"x\":0.05},\"mapbox\":{\"style\":\"light\"}}},\"xaxis\":{\"anchor\":\"y\",\"domain\":[0.0,1.0],\"title\":{\"text\":\"tsne_1\"}},\"yaxis\":{\"anchor\":\"x\",\"domain\":[0.0,1.0],\"title\":{\"text\":\"tsne_2\"}},\"coloraxis\":{\"colorbar\":{\"title\":{\"text\":\"cluster\"}},\"colorscale\":[[0.0,\"rgb(0,0,255)\"],[1.0,\"rgb(255,0,0)\"]]},\"legend\":{\"tracegroupgap\":0},\"margin\":{\"t\":60},\"title\":{\"text\":\"Embeddings of TikTok News Hashtags\"},\"width\":800,\"height\":800},                        {\"responsive\": true}                    ).then(function(){\n",
       "                            \n",
       "var gd = document.getElementById('76691669-a89e-43ca-ad9f-a462febe6e06');\n",
       "var x = new MutationObserver(function (mutations, observer) {{\n",
       "        var display = window.getComputedStyle(gd).display;\n",
       "        if (!display || display === 'none') {{\n",
       "            console.log([gd, 'removed!']);\n",
       "            Plotly.purge(gd);\n",
       "            observer.disconnect();\n",
       "        }}\n",
       "}});\n",
       "\n",
       "// Listen for the removal of the full notebook cells\n",
       "var notebookContainer = gd.closest('#notebook-container');\n",
       "if (notebookContainer) {{\n",
       "    x.observe(notebookContainer, {childList: true});\n",
       "}}\n",
       "\n",
       "// Listen for the clearing of the current output cell\n",
       "var outputEl = gd.closest('.output');\n",
       "if (outputEl) {{\n",
       "    x.observe(outputEl, {childList: true});\n",
       "}}\n",
       "\n",
       "                        })                };                });            </script>        </div>"
      ]
     },
     "metadata": {},
     "output_type": "display_data"
    }
   ],
   "source": [
    "import plotly.express as px\n",
    "\n",
    "# Create the scatter plot\n",
    "fig = px.scatter(df, x='tsne_1', y='tsne_2', text='hashtag', color=\"cluster\", color_continuous_scale=\"BlueRed\")\n",
    "\n",
    "# Format what to show next to the markers\n",
    "fig.update_traces(textposition='top center', \n",
    "                  mode='markers+text', \n",
    "                  textfont=dict(size=6))\n",
    "\n",
    "fig.update_layout(title='Embeddings of TikTok News Hashtags', width=800, height=800)\n",
    "fig.show()"
   ]
  },
  {
   "cell_type": "code",
   "execution_count": null,
   "id": "4925f8c2-96bc-48bf-91b3-c200ea63250b",
   "metadata": {},
   "outputs": [],
   "source": []
  }
 ],
 "metadata": {
  "kernelspec": {
   "display_name": "Python 3 (ipykernel)",
   "language": "python",
   "name": "python3"
  },
  "language_info": {
   "codemirror_mode": {
    "name": "ipython",
    "version": 3
   },
   "file_extension": ".py",
   "mimetype": "text/x-python",
   "name": "python",
   "nbconvert_exporter": "python",
   "pygments_lexer": "ipython3",
   "version": "3.10.10"
  }
 },
 "nbformat": 4,
 "nbformat_minor": 5
}
